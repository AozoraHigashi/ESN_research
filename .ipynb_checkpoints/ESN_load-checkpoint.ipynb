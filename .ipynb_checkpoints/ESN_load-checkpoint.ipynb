{
 "cells": [
  {
   "cell_type": "code",
   "execution_count": 1,
   "id": "dc7489a9-c6a6-4dac-b4e3-d7893ccdc0f3",
   "metadata": {},
   "outputs": [],
   "source": [
    "import torch\n",
    "import matplotlib.pyplot as plt\n",
    "import ESN\n",
    "import time\n",
    "import numpy as np\n",
    "import json"
   ]
  },
  {
   "cell_type": "code",
   "execution_count": 2,
   "id": "3afd85e7-231a-4df6-b0d8-d514bf08a516",
   "metadata": {},
   "outputs": [],
   "source": [
    "torch.set_default_device(\"cuda:0\")\n",
    "torch.set_default_dtype(torch.double)"
   ]
  },
  {
   "cell_type": "code",
   "execution_count": 3,
   "id": "88ef951b-0391-44f8-80c5-0e2b826ef046",
   "metadata": {},
   "outputs": [
    {
     "name": "stdin",
     "output_type": "stream",
     "text": [
      "set file name :  a\n"
     ]
    }
   ],
   "source": [
    "fn = input(\"set file name : \")"
   ]
  },
  {
   "cell_type": "code",
   "execution_count": 3,
   "id": "c21b77c4-166a-446f-99ff-50ce838d973b",
   "metadata": {},
   "outputs": [],
   "source": [
    "#\n",
    "fn=\"200N_2din_tanh\""
   ]
  },
  {
   "cell_type": "code",
   "execution_count": 13,
   "id": "e36bbb93-685a-4931-a5b9-45c10ba797b1",
   "metadata": {},
   "outputs": [
    {
     "name": "stdout",
     "output_type": "stream",
     "text": [
      "mc calc time : 0.04304385185241699\n",
      "total MC : 23.358996903637674\n",
      "0.005013125079519831\n"
     ]
    }
   ],
   "source": [
    "## calculate memory capacity\n",
    "\n",
    "with open('./experiments/settings/'+fn+'_s.txt', 'r') as fp:\n",
    "    setting = json.load(fp)\n",
    "\n",
    "u = torch.load('./experiments/inputs/'+fn+'_i.pt')\n",
    "Xwo = torch.load('./experiments/datamatrices/'+fn+'_d.pt')\n",
    "\n",
    "N = setting[\"Nodes\"]\n",
    "dim = setting[\"input dim\"]\n",
    "if setting[\"identical Win\"]:\n",
    "    maxtau = int(N*2) \n",
    "else : maxtau =  int(N/dim *2) \n",
    "\n",
    "\"\"\" tweak maxtau here \"\"\"\n",
    "##maxtau=int(N*10)\n",
    "##\n",
    "\n",
    "st = time.time()\n",
    "#mfs = ESN.MC_cSVD_old(u_sym, Xwo, maxtau)\n",
    "#mfs = ESN.MC_cSVD(u_sym, Xwo, maxtau)\n",
    "mfs_raw, mfs_lin, mfs_rev, sur_value = ESN.MC_cSVD(u_sym, Xwo, maxtau,ret_all=True)\n",
    "mfs = mfs_rev\n",
    "\n",
    "print(r\"mc calc time :%.3f s\"%(time.time()-st))\n",
    "print(\"total MC :\",float(torch.sum(mfs)))\n",
    "print(float(sur_value))\n",
    "\n",
    "\n",
    "#torch.save(mfs,f\"./experiments/mfs/{fn}_mf.pt\")\n",
    "#torch.save(mfs_raw,f\"./experiments/mfs/{fn}_raw.pt\")\n",
    "#torch.save(sur_value,f\"./experiments/mfs/{fn}_sur.pt\")\n"
   ]
  },
  {
   "cell_type": "code",
   "execution_count": 5,
   "id": "8c392f6d-4ece-44e7-8dae-5664cd060bf5",
   "metadata": {},
   "outputs": [],
   "source": [
    "## load data\n",
    "with open('./experiments/settings/'+fn+'_s.txt', 'r') as fp:\n",
    "    setting = json.load(fp)\n",
    "u_sym = torch.load('./experiments/inputs/'+fn+'_i.pt')\n",
    "Xwo = torch.load('./experiments/datamatrices/'+fn+'_d.pt')\n",
    "\n",
    "Two = setting[\"Two\"]\n"
   ]
  },
  {
   "cell_type": "code",
   "execution_count": 7,
   "id": "550ce726-0070-4184-9531-cd315773420f",
   "metadata": {},
   "outputs": [
    {
     "name": "stdout",
     "output_type": "stream",
     "text": [
      "basis table creation:0.000 s\n",
      "1 degree:300 target functions\n",
      "2 degree:210 target functions\n",
      "3 degree:11480 target functions\n",
      "4 degree:8855 target functions\n",
      "5 degree:42504 target functions\n",
      "target create time:518.216 s\n"
     ]
    }
   ],
   "source": [
    "\"\"\"  TEMPORARY CELL  \"\"\"\n",
    "\n",
    "## set max delay, degree\n",
    "maxdd=[[1,150],[2,10],[3,20],[4,10],[5,10]]\n",
    "\n",
    "st = time.time()\n",
    "target_info = ESN.make_targets(u_sym,maxdd,Two=Two)\n",
    "print(r\"target create time:%.3f s\"%(time.time()-st))\n",
    "#torch.save(target_info,f\"./experiments/target_info/{fn}_3rd_ti.pt\")\n",
    "\n",
    "#st = time.time()\n",
    "#ti = torch.load('./experiments/target_info/'+fn+'_7th_ti.pt')\n",
    "#print(\"load time:\",time.time()-st)"
   ]
  },
  {
   "cell_type": "code",
   "execution_count": 36,
   "id": "c01321c8-fc11-49d7-956e-351b8af7a58d",
   "metadata": {},
   "outputs": [],
   "source": [
    "torch.save(target_info,f\"./experiments/target_info/{fn}_ti.pt\")\n",
    "torch.save(ipc,f\"./experiments/ipcs/{fn}_ipc.pt\")"
   ]
  },
  {
   "cell_type": "code",
   "execution_count": 29,
   "id": "5f8e7763-0dfb-465c-9a47-4c713140d3f5",
   "metadata": {},
   "outputs": [
    {
     "name": "stdout",
     "output_type": "stream",
     "text": [
      "ipc calc time :0.089 s\n"
     ]
    }
   ],
   "source": [
    "\"\"\"  TEMPORARY CELL  \"\"\"\n",
    "#ti = ti.slice(0,4000)\n",
    "ti=target_info\n",
    "st = time.time()\n",
    "raw,lin,rev,sur = ESN.calc_capacity(Xwo,ti.tar_f,ret_all=True)\n",
    "print(r\"ipc calc time :%.3f s\"%(time.time()-st))\n",
    "capacities = rev\n",
    "\n",
    "ipc=ESN.IPC(capacities,ti.delay,ti.degree,ti.in_dim,ti.maxddset)\n",
    "#torch.save(ipc,f\"./experiments/ipcs/{fn}_7th_ipc.pt\")\n",
    "#torch.save(ipc,f\"./experiments/ipcs/{fn}_3rd_ipc.pt\")\n"
   ]
  },
  {
   "cell_type": "code",
   "execution_count": null,
   "id": "75ff58d8-58ed-421c-8d1c-3c63f5cf96fd",
   "metadata": {},
   "outputs": [],
   "source": []
  },
  {
   "cell_type": "code",
   "execution_count": 5,
   "id": "0b71992f-e505-4701-be15-e1e36e775e3e",
   "metadata": {},
   "outputs": [
    {
     "name": "stdout",
     "output_type": "stream",
     "text": [
      "7 degree:116280 target functions\n",
      "target create time:1802.085 s\n"
     ]
    }
   ],
   "source": [
    "## calculate ipc\n",
    "\n",
    "## create target functions\n",
    "\n",
    "## set max delay, degree\n",
    "maxdd=[[2,10],[3,25],[4,10],[5,20]]\n",
    "\n",
    "st = time.time()\n",
    "target_info = ESN.make_targets(u_sym,maxdd,Two=Two)\n",
    "print(r\"target create time:%.3f s\"%(time.time()-st))\n",
    "torch.save(target_info,f\"./experiments/target_info/{fn}_ti.pt\")\n",
    "\n"
   ]
  },
  {
   "cell_type": "code",
   "execution_count": 19,
   "id": "6b69c7df-65ef-41ec-83cf-ff9152bdf636",
   "metadata": {},
   "outputs": [
    {
     "name": "stdout",
     "output_type": "stream",
     "text": [
      "ipc : 0.041225433349609375\n"
     ]
    }
   ],
   "source": [
    "## calculate capacities\n",
    "ti = torch.load('./experiments/target_info/'+fn+'_ti.pt')\n",
    "\n",
    "st = time.time()\n",
    "raw,lin,rev,sur = ESN.calc_capacity(Xwo,ti.tar_f,ret_all=True)\n",
    "print(r\"ipc calc time :%.3f s\"%(time.time()-st))\n",
    "capacities = rev\n",
    "\n",
    "ipc=ESN.IPC(capacities,ti.maxdelay,ti.degree,ti.maxddset,ti.in_dim)\n",
    "torch.save(ipc,f\"./experiments/ipcs/{fn}_ipc.pt\")\n",
    "#torch.save(capacities,f\"./experiments/ipcs/{fn}_c.pt\")\n"
   ]
  },
  {
   "cell_type": "code",
   "execution_count": 8,
   "id": "0db069c7-4bbb-4895-a886-6e399a260e91",
   "metadata": {},
   "outputs": [
    {
     "name": "stdout",
     "output_type": "stream",
     "text": [
      "totoal capacity: tensor(290.2324, device='cuda:0')\n",
      "1 order ipc: 39.18020798001277\n",
      "2 order ipc: -0.02639752417411862\n",
      "3 order ipc: 147.7019673916259\n",
      "4 order ipc: 11.722694167594392\n",
      "5 order ipc: 91.65389802043475\n"
     ]
    }
   ],
   "source": [
    "#mfs = torch.load(f\"./experiments/mfs/{fn}_mf.pt\")\n",
    "ipc = torch.load(f\"./experiments/ipcs/{fn}_ipc.pt\")\n",
    "\n",
    "maxdegree=5\n",
    "cap_by_degree = torch.tensor([ipc.ipc_by_degree(deg) for deg in np.arange(1,maxdegree+1)])\n",
    "totCapacity = torch.sum(cap_by_degree)\n",
    "print(\"totoal capacity:\",totCapacity)\n",
    "for deg in np.arange(1,maxdegree+1):\n",
    "    print(f\"{deg} order ipc:\",float(cap_by_degree[deg-1]))"
   ]
  },
  {
   "cell_type": "code",
   "execution_count": null,
   "id": "5ab56697-528a-462f-88a0-6f66120d5895",
   "metadata": {},
   "outputs": [],
   "source": []
  }
 ],
 "metadata": {
  "kernelspec": {
   "display_name": "Python 3 (ipykernel)",
   "language": "python",
   "name": "python3"
  },
  "language_info": {
   "codemirror_mode": {
    "name": "ipython",
    "version": 3
   },
   "file_extension": ".py",
   "mimetype": "text/x-python",
   "name": "python",
   "nbconvert_exporter": "python",
   "pygments_lexer": "ipython3",
   "version": "3.10.14"
  }
 },
 "nbformat": 4,
 "nbformat_minor": 5
}
