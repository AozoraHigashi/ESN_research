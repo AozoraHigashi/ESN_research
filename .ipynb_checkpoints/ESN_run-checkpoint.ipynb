{
 "cells": [
  {
   "cell_type": "code",
   "execution_count": 1,
   "id": "dc7489a9-c6a6-4dac-b4e3-d7893ccdc0f3",
   "metadata": {},
   "outputs": [],
   "source": [
    "import torch\n",
    "import matplotlib.pyplot as plt\n",
    "import ESN\n",
    "import time\n",
    "import numpy as np\n",
    "import json\n",
    "import util"
   ]
  },
  {
   "cell_type": "code",
   "execution_count": 2,
   "id": "3afd85e7-231a-4df6-b0d8-d514bf08a516",
   "metadata": {},
   "outputs": [],
   "source": [
    "torch.set_default_device(\"cuda:0\")\n",
    "torch.set_default_dtype(torch.double)"
   ]
  },
  {
   "cell_type": "code",
   "execution_count": 3,
   "id": "88ef951b-0391-44f8-80c5-0e2b826ef046",
   "metadata": {},
   "outputs": [
    {
     "name": "stdin",
     "output_type": "stream",
     "text": [
      "set file name :  10N_100K\n"
     ]
    }
   ],
   "source": [
    "fn = input(\"set file name : \")"
   ]
  },
  {
   "cell_type": "code",
   "execution_count": 4,
   "id": "be00dcda-7b3c-4d10-b0ab-116b0ca9cf99",
   "metadata": {},
   "outputs": [
    {
     "name": "stdout",
     "output_type": "stream",
     "text": [
      "settings stored: {'input dim': 1, 'Two': 2000, 'Ttrain': 100000, 'sigma': 1.0, 'rseed': 0, 'Nodes': 10, 'uC': 0, 'rho': 0.6, 'actf': 'tanh', 'identical Win': False, 'input dist': 'uniform'}\n"
     ]
    }
   ],
   "source": [
    "# Parameters\n",
    "Two,Ttrain = 2000,100000\n",
    "N = 10\n",
    "rho=0.6\n",
    "C = 0\n",
    "\n",
    "dim = 1\n",
    "sigma = 1.0\n",
    "N_d = int(N * dim)\n",
    "#N_d = \n",
    "shftreg = False\n",
    "idwin = False\n",
    "actf = \"identity\"\n",
    "actf = \"tanh\"\n",
    "\n",
    "rseed=0\n",
    "\n",
    "setting = {\"input dim\":dim,\"Two\":Two, \"Ttrain\":Ttrain,\"sigma\":sigma,\"rseed\" : rseed, \n",
    "            \"Nodes\":N_d,\"uC\":C,\"rho\":rho, \"actf\":actf,\"identical Win\":idwin,\"input dist\":\"uniform\"}\n",
    "# store experiment setting \n",
    "with open('./experiments/settings/'+fn+'_s.txt', 'x') as fp:\n",
    "    data = json.dump(setting,fp)\n",
    "\n",
    "print(\"settings stored:\",setting)"
   ]
  },
  {
   "cell_type": "code",
   "execution_count": 5,
   "id": "edfa77b2-01ed-4e70-ba6d-cf90a17c43a6",
   "metadata": {},
   "outputs": [],
   "source": [
    "## create input\n",
    "torch.manual_seed(0)\n",
    "u_asym = torch.rand(dim, Two + Ttrain)\n",
    "#u_sym = u_asym\n",
    "u_sym = 2 * u_asym - 1\n",
    "\n",
    "torch.save(u_sym,f\"./experiments/inputs/{fn}_i.pt\")\n",
    "\n"
   ]
  },
  {
   "cell_type": "code",
   "execution_count": 6,
   "id": "4d6c543b-121c-4cb1-81c8-4a53a9b38498",
   "metadata": {},
   "outputs": [
    {
     "name": "stdout",
     "output_type": "stream",
     "text": [
      "runtime : 14.382144689559937\n"
     ]
    }
   ],
   "source": [
    "## construct ESN model\n",
    "## run and washout \n",
    "esn = ESN.ESN_mult(N_d, rho=rho,uC=C, dim=dim,idWin = idwin,sigma =sigma,rseed=rseed)\n",
    "st = time.time()\n",
    "Xwo = esn.run_washout(u_sym, Two, actf=actf)\n",
    "print(\"runtime :\",time.time()-st)\n",
    "\n",
    "torch.save(Xwo,f\"./experiments/datamatrices/{fn}_d.pt\")\n",
    "\n"
   ]
  },
  {
   "cell_type": "code",
   "execution_count": null,
   "id": "fd5fed55-3276-48d6-9abf-afdd8508d5b0",
   "metadata": {},
   "outputs": [],
   "source": [
    "\"\"\" calculate MEMORY CAPACITY \"\"\"\n",
    "\n",
    "with open('./experiments/settings/'+fn+'_s.txt', 'r') as fp:\n",
    "    setting = json.load(fp)\n",
    "u = torch.load('./experiments/inputs/'+fn+'_i.pt')\n",
    "Xwo = torch.load('./experiments/datamatrices/'+fn+'_d.pt')\n",
    "\n",
    "N = setting[\"Nodes\"]\n",
    "dim = setting[\"input dim\"]\n",
    "if setting[\"identical Win\"]:\n",
    "    maxtau = int(N*1.5) \n",
    "else : maxtau =  int(N/dim *2) \n",
    "\n",
    "\"\"\" tweak maxtau here \"\"\"\n",
    "##\n",
    "maxtau=int(N*4)\n",
    "##\n",
    "\n",
    "#mfs = ESN.MC_cSVD_old(u_sym, Xwo, maxtau)\n",
    "#mfs = ESN.MC_cSVD(u_sym, Xwo, maxtau)\n",
    "mfs_raw, mfs_lin, mfs_rev, sur_value = ESN.MC_cSVD(u_sym, Xwo, maxtau,ret_all=True)\n",
    "mfs = mfs_rev\n",
    "\n",
    "print(\"mc calc time :\",time.time()-st)\n",
    "print(\"total MC :\",float(torch.sum(mfs)))\n",
    "torch.save(mfs,f\"./experiments/mfs/{fn}_mf.pt\")\n",
    "torch.save(mfs_raw,f\"./experiments/mfs/{fn}_raw.pt\")\n",
    "torch.save(sur_value,f\"./experiments/mfs/{fn}_sur.pt\")\n",
    "\n",
    "print(float(sur_value))\n"
   ]
  },
  {
   "cell_type": "code",
   "execution_count": 7,
   "id": "e3ee8ad8-a5f8-4f95-bcca-f3fb08d57c78",
   "metadata": {},
   "outputs": [
    {
     "name": "stderr",
     "output_type": "stream",
     "text": [
      "/tmp/ipykernel_194041/2217200234.py:6: FutureWarning: You are using `torch.load` with `weights_only=False` (the current default value), which uses the default pickle module implicitly. It is possible to construct malicious pickle data which will execute arbitrary code during unpickling (See https://github.com/pytorch/pytorch/blob/main/SECURITY.md#untrusted-models for more details). In a future release, the default value for `weights_only` will be flipped to `True`. This limits the functions that could be executed during unpickling. Arbitrary objects will no longer be allowed to be loaded via this mode unless they are explicitly allowlisted by the user via `torch.serialization.add_safe_globals`. We recommend you start setting `weights_only=True` for any use case where you don't have full control of the loaded file. Please open an issue on GitHub for any issues related to this experimental feature.\n",
      "  u_sym = torch.load('./experiments/inputs/'+fn+'_i.pt')\n",
      "/tmp/ipykernel_194041/2217200234.py:7: FutureWarning: You are using `torch.load` with `weights_only=False` (the current default value), which uses the default pickle module implicitly. It is possible to construct malicious pickle data which will execute arbitrary code during unpickling (See https://github.com/pytorch/pytorch/blob/main/SECURITY.md#untrusted-models for more details). In a future release, the default value for `weights_only` will be flipped to `True`. This limits the functions that could be executed during unpickling. Arbitrary objects will no longer be allowed to be loaded via this mode unless they are explicitly allowlisted by the user via `torch.serialization.add_safe_globals`. We recommend you start setting `weights_only=True` for any use case where you don't have full control of the loaded file. Please open an issue on GitHub for any issues related to this experimental feature.\n",
      "  Xwo = torch.load('./experiments/datamatrices/'+fn+'_d.pt')\n"
     ]
    },
    {
     "name": "stdout",
     "output_type": "stream",
     "text": [
      "basis table creation:0.261 s\n",
      "1 degree:20 target functions\n",
      "2 degree:55 target functions\n",
      "3 degree:220 target functions\n",
      "4 degree:210 target functions\n",
      "5 degree:462 target functions\n",
      "6 degree:28 target functions\n",
      "7 degree:36 target functions\n",
      "Total of 1031 bases\n",
      " 7/7 degree bases now calculating ...target creation complete, total of 1031 bases\n",
      "target creation time:6.070 s\n"
     ]
    }
   ],
   "source": [
    "## calculate ipc\n",
    "\n",
    "## create target functions\n",
    "with open('./experiments/settings/'+fn+'_s.txt', 'r') as fp:\n",
    "    setting = json.load(fp)\n",
    "u_sym = torch.load('./experiments/inputs/'+fn+'_i.pt')\n",
    "Xwo = torch.load('./experiments/datamatrices/'+fn+'_d.pt')\n",
    "\n",
    "Two = setting[\"Two\"]\n",
    "\n",
    "## set max delay, degree\n",
    "maxdd=[[1,20],\n",
    "       [2,10],\n",
    "       [3,10],\n",
    "       [4,7],\n",
    "       [5,7],\n",
    "       [6,3],\n",
    "       [7,3]]\n",
    "\n",
    "\n",
    "st = time.time()\n",
    "target_info = ESN.make_targets(u_sym,maxdd,Two=Two)\n",
    "print(r\"target creation time:%.3f s\"%(time.time()-st))\n",
    "torch.save(target_info,f\"./experiments/target_info/{fn}_ti.pt\")\n",
    "\n"
   ]
  },
  {
   "cell_type": "code",
   "execution_count": 8,
   "id": "8877fa7d-dfb2-41ba-b59e-f27eb32913ad",
   "metadata": {},
   "outputs": [
    {
     "name": "stdout",
     "output_type": "stream",
     "text": [
      "load time :0.000 s\n",
      "ipc calc time :0.243 s\n"
     ]
    }
   ],
   "source": [
    "## calculate capacities\n",
    "#\n",
    "st = time.time()\n",
    "#ti = torch.load('./experiments/target_info/'+fn+'_ti.pt')\n",
    "print(r\"load time :%.3f s\"%(time.time()-st))\n",
    "ti=target_info\n",
    "st = time.time()\n",
    "raw,thr,thr_scl,rev,sur= ESN.calc_capacity(Xwo,ti.tar_f,ret_all=True,thr_scale=1.2)\n",
    "print(r\"ipc calc time :%.3f s\"%(time.time()-st))\n",
    "\n",
    "cap = thr\n",
    "\n",
    "ipc=ESN.IPC(cap,ti.delay,ti.degree,ti.in_dim,ti.maxddset)\n",
    "\n",
    "\n",
    "torch.save(ipc,f\"./experiments/ipcs/{fn}_ipc.pt\")\n",
    "torch.save(raw,f\"./experiments/ipcs/{fn}_raw.pt\")\n",
    "torch.save(sur,f\"./experiments/ipcs/{fn}_sur.pt\")\n",
    "\n",
    "util.print_ipc(ipc)"
   ]
  },
  {
   "cell_type": "code",
   "execution_count": 9,
   "id": "4342c209-a886-44fa-a7a4-8ccdaaf324f3",
   "metadata": {},
   "outputs": [
    {
     "name": "stdout",
     "output_type": "stream",
     "text": [
      "1 deg ipc: 5.580646651153414\n",
      "2 deg ipc: 0.0004904261897487859\n",
      "3 deg ipc: 4.350434935313661\n",
      "4 deg ipc: 0.0\n",
      "5 deg ipc: 0.059215086439763295\n",
      "6 deg ipc: 0.0\n",
      "7 deg ipc: 0.0\n",
      "total ipc: 9.990787099096586\n"
     ]
    }
   ],
   "source": [
    "## print ipc\n",
    "degree_num=len(ipc.maxddset)\n",
    "cap_deg=np.array(())\n",
    "for deg in range(degree_num):\n",
    "    tempcap = torch.sum(ipc.get_val_by_degree(deg+1)).cpu().numpy()\n",
    "    cap_deg = np.append(cap_deg,tempcap)\n",
    "    print(f\"{deg+1} deg ipc:\",tempcap)\n",
    "print(\"total ipc:\",float(np.sum(cap_deg)))\n"
   ]
  },
  {
   "cell_type": "code",
   "execution_count": null,
   "id": "d2d56e5f-2f90-4f73-8d67-3f362b148a2d",
   "metadata": {},
   "outputs": [],
   "source": []
  }
 ],
 "metadata": {
  "kernelspec": {
   "display_name": "Python 3 (ipykernel)",
   "language": "python",
   "name": "python3"
  },
  "language_info": {
   "codemirror_mode": {
    "name": "ipython",
    "version": 3
   },
   "file_extension": ".py",
   "mimetype": "text/x-python",
   "name": "python",
   "nbconvert_exporter": "python",
   "pygments_lexer": "ipython3",
   "version": "3.10.9"
  }
 },
 "nbformat": 4,
 "nbformat_minor": 5
}
