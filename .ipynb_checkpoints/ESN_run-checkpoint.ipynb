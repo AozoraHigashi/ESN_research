{
 "cells": [
  {
   "cell_type": "code",
   "execution_count": 1,
   "id": "dc7489a9-c6a6-4dac-b4e3-d7893ccdc0f3",
   "metadata": {},
   "outputs": [],
   "source": [
    "import torch\n",
    "import matplotlib.pyplot as plt\n",
    "import ESN\n",
    "import time\n",
    "import numpy as np\n",
    "import json"
   ]
  },
  {
   "cell_type": "code",
   "execution_count": 2,
   "id": "3afd85e7-231a-4df6-b0d8-d514bf08a516",
   "metadata": {},
   "outputs": [],
   "source": [
    "torch.set_default_device(\"cuda:0\")\n",
    "torch.set_default_dtype(torch.double)"
   ]
  },
  {
   "cell_type": "code",
   "execution_count": 3,
   "id": "0b71992f-e505-4701-be15-e1e36e775e3e",
   "metadata": {},
   "outputs": [
    {
     "name": "stdout",
     "output_type": "stream",
     "text": [
      "basis table creation:0.003 s\n",
      "1 degree:100 target functions\n",
      "2 degree:55 target functions\n",
      "3 degree:4960 target functions\n",
      "4 degree:715 target functions\n",
      "5 degree:2002 target functions\n",
      "6 degree:210 target functions\n",
      "7 degree:330 target functions\n",
      "target create time:6.917 s\n"
     ]
    }
   ],
   "source": [
    "\"\"\" TEMP  \"\"\"\n",
    "fn = \"50N_tanh_10K\"\n",
    "## create target functions\n",
    "with open('./experiments/settings/'+fn+'_s.txt', 'r') as fp:\n",
    "    setting = json.load(fp)\n",
    "u_sym = torch.load('./experiments/inputs/'+fn+'_i.pt')\n",
    "Xwo = torch.load('./experiments/datamatrices/'+fn+'_d.pt')\n",
    "Two = setting[\"Two\"]\n",
    "## set max delay, degree\n",
    "maxdd=[[1,100],[2,10],[3,30],[4,10],[5,10],[6,5],[7,5]]\n",
    "\n",
    "st = time.time()\n",
    "target_info = ESN.make_targets(u_sym,maxdd,Two=Two)\n",
    "print(r\"target create time:%.3f s\"%(time.time()-st))\n",
    "\n",
    "torch.save(target_info,f\"./experiments/target_info/{fn}_ti.pt\")\n"
   ]
  },
  {
   "cell_type": "code",
   "execution_count": 5,
   "id": "54a07f1f-7427-484f-8913-a3af9cb275af",
   "metadata": {},
   "outputs": [
    {
     "name": "stdout",
     "output_type": "stream",
     "text": [
      "ipc calc time :0.135 s\n"
     ]
    }
   ],
   "source": [
    "## calculate capacities\n",
    "ti=target_info\n",
    "\n",
    "st = time.time()\n",
    "raw,lin,rev,sur = ESN.calc_capacity(Xwo,ti.tar_f,ret_all=True)\n",
    "print(r\"ipc calc time :%.3f s\"%(time.time()-st))\n",
    "\n",
    "cap = rev\n",
    "ipc=ESN.IPC(cap,target_info.delay,target_info.degree,target_info.in_dim,target_info.maxddset)\n",
    "torch.save(ipc,f\"./experiments/ipcs/{fn}_ipc.pt\")\n",
    "torch.save(raw,f\"./experiments/ipcs/{fn}_raw.pt\")\n",
    "torch.save(sur,f\"./experiments/ipcs/{fn}_sur.pt\")\n",
    "\n"
   ]
  },
  {
   "cell_type": "code",
   "execution_count": 13,
   "id": "88ef951b-0391-44f8-80c5-0e2b826ef046",
   "metadata": {},
   "outputs": [
    {
     "name": "stdin",
     "output_type": "stream",
     "text": [
      "set file name :  50N_C0.6_tanh\n"
     ]
    }
   ],
   "source": [
    "fn = input(\"set file name : \")"
   ]
  },
  {
   "cell_type": "code",
   "execution_count": 15,
   "id": "be00dcda-7b3c-4d10-b0ab-116b0ca9cf99",
   "metadata": {},
   "outputs": [],
   "source": [
    "# Parameters\n",
    "Two,Ttrain = 2000,10000\n",
    "N = 50\n",
    "C = 0.6\n",
    "\n",
    "dim = 1\n",
    "sigma = 0.5\n",
    "N_d = int(N * dim)\n",
    "shftreg = False\n",
    "idwin = False\n",
    "actf = \"identity\"\n",
    "actf = \"tanh\"\n",
    "\n",
    "rseed=0\n",
    "\n",
    "setting = {\"input dim\":dim,\"Two\":Two, \"Ttrain\":Ttrain,\"sigma\":sigma,rseed : rseed, \n",
    "            \"Nodes\":N,\"uC\":C, \"actf\":actf,\"identical Win\":idwin,\"input dist\":\"uniform\"}\n",
    "# store experiment setting \n",
    "with open('./experiments/settings/'+fn+'_s.txt', 'x') as fp:\n",
    "    data = json.dump(setting,fp)\n"
   ]
  },
  {
   "cell_type": "code",
   "execution_count": 16,
   "id": "edfa77b2-01ed-4e70-ba6d-cf90a17c43a6",
   "metadata": {},
   "outputs": [],
   "source": [
    "## create input\n",
    "torch.manual_seed(0)\n",
    "u_asym = torch.rand(dim, Two + Ttrain)\n",
    "#u_sym = u_asym\n",
    "u_sym = 2 * u_asym - 1\n",
    "\n",
    "torch.save(u_sym,f\"./experiments/inputs/{fn}_i.pt\")\n",
    "\n"
   ]
  },
  {
   "cell_type": "code",
   "execution_count": 17,
   "id": "4d6c543b-121c-4cb1-81c8-4a53a9b38498",
   "metadata": {},
   "outputs": [
    {
     "name": "stdout",
     "output_type": "stream",
     "text": [
      "runtime : 0.7234556674957275\n"
     ]
    }
   ],
   "source": [
    "## construct ESN model\n",
    "## run and washout \n",
    "esn = ESN.ESN_mult(N_d, uC=C, dim=dim,idWin = idwin,sigma =sigma,rseed=rseed)\n",
    "st = time.time()\n",
    "Xwo = esn.run_washout(u_sym, Two, actf=actf)\n",
    "print(\"runtime :\",time.time()-st)\n",
    "\n",
    "torch.save(Xwo,f\"./experiments/datamatrices/{fn}_d.pt\")\n",
    "\n"
   ]
  },
  {
   "cell_type": "code",
   "execution_count": 18,
   "id": "e36bbb93-685a-4931-a5b9-45c10ba797b1",
   "metadata": {},
   "outputs": [
    {
     "name": "stdout",
     "output_type": "stream",
     "text": [
      "mc calc time : 1.4574453830718994\n",
      "total MC : 978.2541720677905\n",
      "0.10002948495287922\n"
     ]
    }
   ],
   "source": [
    "## calculate memory capacity\n",
    "\n",
    "with open('./experiments/settings/'+fn+'_s.txt', 'r') as fp:\n",
    "    setting = json.load(fp)\n",
    "u = torch.load('./experiments/inputs/'+fn+'_i.pt')\n",
    "Xwo = torch.load('./experiments/datamatrices/'+fn+'_d.pt')\n",
    "\n",
    "N = setting[\"Nodes\"]\n",
    "dim = setting[\"input dim\"]\n",
    "if setting[\"identical Win\"]:\n",
    "    maxtau = int(N*1.5) \n",
    "else : maxtau =  int(N/dim *2) \n",
    "\n",
    "\"\"\" tweak maxtau here \"\"\"\n",
    "##\n",
    "maxtau=int(N*4)\n",
    "##\n",
    "\n",
    "\n",
    "st = time.time()\n",
    "#mfs = ESN.MC_cSVD_old(u_sym, Xwo, maxtau)\n",
    "#mfs = ESN.MC_cSVD(u_sym, Xwo, maxtau)\n",
    "mfs_raw, mfs_lin, mfs_rev, sur_value = ESN.MC_cSVD(u_sym, Xwo, maxtau,ret_all=True)\n",
    "mfs = mfs_rev\n",
    "\n",
    "print(\"mc calc time :\",time.time()-st)\n",
    "print(\"total MC :\",float(torch.sum(mfs)))\n",
    "torch.save(mfs,f\"./experiments/mfs/{fn}_mf.pt\")\n",
    "torch.save(mfs_raw,f\"./experiments/mfs/{fn}_raw.pt\")\n",
    "torch.save(sur_value,f\"./experiments/mfs/{fn}_sur.pt\")\n",
    "\n",
    "print(float(sur_value))\n"
   ]
  },
  {
   "cell_type": "code",
   "execution_count": 144,
   "id": "66c08a38-f38a-4d83-8911-4490b94711a3",
   "metadata": {},
   "outputs": [
    {
     "name": "stdout",
     "output_type": "stream",
     "text": [
      "0.0009925384187713534\n",
      "-2.3580366579990234e-05\n",
      "-2.461494207345228e-05\n"
     ]
    }
   ],
   "source": [
    "print(float(torch.mean(raw_res[0][200:])))\n",
    "print(float(torch.mean(mfs_lin[0][200:])))\n",
    "print(float(torch.mean(mfs[0][200:])))"
   ]
  },
  {
   "cell_type": "code",
   "execution_count": 18,
   "id": "e3ee8ad8-a5f8-4f95-bcca-f3fb08d57c78",
   "metadata": {},
   "outputs": [
    {
     "name": "stdout",
     "output_type": "stream",
     "text": [
      "basis table creation:0.003 s\n",
      "1 degree:100 target functions\n",
      "2 degree:55 target functions\n",
      "3 degree:2925 target functions\n",
      "4 degree:715 target functions\n",
      "5 degree:2002 target functions\n",
      "target create time:2.753 s\n"
     ]
    }
   ],
   "source": [
    "## calculate ipc\n",
    "\n",
    "## create target functions\n",
    "with open('./experiments/settings/'+fn+'_s.txt', 'r') as fp:\n",
    "    setting = json.load(fp)\n",
    "u_sym = torch.load('./experiments/inputs/'+fn+'_i.pt')\n",
    "Xwo = torch.load('./experiments/datamatrices/'+fn+'_d.pt')\n",
    "\n",
    "Two = setting[\"Two\"]\n",
    "\n",
    "## set max delay, degree\n",
    "maxdd=[[1,100],[2,10],[3,25],[4,10],[5,10]]\n",
    "\n",
    "\n",
    "st = time.time()\n",
    "target_info = ESN.make_targets(u_sym,maxdd,Two=Two)\n",
    "print(r\"target create time:%.3f s\"%(time.time()-st))\n",
    "torch.save(target_info,f\"./experiments/target_info/{fn}_ti.pt\")\n",
    "\n"
   ]
  },
  {
   "cell_type": "code",
   "execution_count": 19,
   "id": "8877fa7d-dfb2-41ba-b59e-f27eb32913ad",
   "metadata": {},
   "outputs": [
    {
     "name": "stdout",
     "output_type": "stream",
     "text": [
      "load time :0.399 s\n",
      "ipc calc time :0.014 s\n"
     ]
    }
   ],
   "source": [
    "## calculate capacities\n",
    "#\n",
    "st = time.time()\n",
    "ti = torch.load('./experiments/target_info/'+fn+'_ti.pt')\n",
    "print(r\"load time :%.3f s\"%(time.time()-st))\n",
    "\n",
    "st = time.time()\n",
    "raw,lin,rev,sur = ESN.calc_capacity(Xwo,ti.tar_f,ret_all=True)\n",
    "print(r\"ipc calc time :%.3f s\"%(time.time()-st))\n",
    "\n",
    "capacities = rev\n",
    "ipc=ESN.IPC(capacities,ti.delay,ti.degree,ti.in_dim,ti.maxddset)\n",
    "torch.save(ipc,f\"./experiments/ipcs/{fn}_ipc.pt\")\n",
    "torch.save(raw,f\"./experiments/ipcs/{fn}_raw.pt\")\n",
    "torch.save(sur,f\"./experiments/ipcs/{fn}_sur.pt\")\n",
    "\n"
   ]
  },
  {
   "cell_type": "code",
   "execution_count": 21,
   "id": "4342c209-a886-44fa-a7a4-8ccdaaf324f3",
   "metadata": {},
   "outputs": [
    {
     "name": "stdout",
     "output_type": "stream",
     "text": [
      "average ipc value: 0.009647298225163015\n"
     ]
    },
    {
     "ename": "FileNotFoundError",
     "evalue": "[Errno 2] No such file or directory: './experiments/ipcs/50N_C0.6_tanh_cd.pt'",
     "output_type": "error",
     "traceback": [
      "\u001b[0;31m---------------------------------------------------------------------------\u001b[0m",
      "\u001b[0;31mFileNotFoundError\u001b[0m                         Traceback (most recent call last)",
      "Cell \u001b[0;32mIn[21], line 7\u001b[0m\n\u001b[1;32m      4\u001b[0m \u001b[38;5;28mprint\u001b[39m(\u001b[38;5;124m\"\u001b[39m\u001b[38;5;124maverage ipc value:\u001b[39m\u001b[38;5;124m\"\u001b[39m,\u001b[38;5;28mfloat\u001b[39m(torch\u001b[38;5;241m.\u001b[39mmean(rev)))\n\u001b[1;32m      6\u001b[0m \u001b[38;5;66;03m#mfs = torch.load(f\"./experiments/mfs/{fn}_mf.pt\")\u001b[39;00m\n\u001b[0;32m----> 7\u001b[0m c_d \u001b[38;5;241m=\u001b[39m \u001b[43mtorch\u001b[49m\u001b[38;5;241;43m.\u001b[39;49m\u001b[43mload\u001b[49m\u001b[43m(\u001b[49m\u001b[38;5;124;43mf\u001b[39;49m\u001b[38;5;124;43m\"\u001b[39;49m\u001b[38;5;124;43m./experiments/ipcs/\u001b[39;49m\u001b[38;5;132;43;01m{\u001b[39;49;00m\u001b[43mfn\u001b[49m\u001b[38;5;132;43;01m}\u001b[39;49;00m\u001b[38;5;124;43m_cd.pt\u001b[39;49m\u001b[38;5;124;43m\"\u001b[39;49m\u001b[43m)\u001b[49m\n\u001b[1;32m      8\u001b[0m \u001b[38;5;66;03m#print(torch.mean(capacities))\u001b[39;00m\n\u001b[1;32m      9\u001b[0m capacities \u001b[38;5;241m=\u001b[39m c_d[\u001b[38;5;241m0\u001b[39m]\n",
      "File \u001b[0;32m~/anaconda3/envs/pyg3/lib/python3.10/site-packages/torch/serialization.py:997\u001b[0m, in \u001b[0;36mload\u001b[0;34m(f, map_location, pickle_module, weights_only, mmap, **pickle_load_args)\u001b[0m\n\u001b[1;32m    994\u001b[0m \u001b[38;5;28;01mif\u001b[39;00m \u001b[38;5;124m'\u001b[39m\u001b[38;5;124mencoding\u001b[39m\u001b[38;5;124m'\u001b[39m \u001b[38;5;129;01mnot\u001b[39;00m \u001b[38;5;129;01min\u001b[39;00m pickle_load_args\u001b[38;5;241m.\u001b[39mkeys():\n\u001b[1;32m    995\u001b[0m     pickle_load_args[\u001b[38;5;124m'\u001b[39m\u001b[38;5;124mencoding\u001b[39m\u001b[38;5;124m'\u001b[39m] \u001b[38;5;241m=\u001b[39m \u001b[38;5;124m'\u001b[39m\u001b[38;5;124mutf-8\u001b[39m\u001b[38;5;124m'\u001b[39m\n\u001b[0;32m--> 997\u001b[0m \u001b[38;5;28;01mwith\u001b[39;00m \u001b[43m_open_file_like\u001b[49m\u001b[43m(\u001b[49m\u001b[43mf\u001b[49m\u001b[43m,\u001b[49m\u001b[43m \u001b[49m\u001b[38;5;124;43m'\u001b[39;49m\u001b[38;5;124;43mrb\u001b[39;49m\u001b[38;5;124;43m'\u001b[39;49m\u001b[43m)\u001b[49m \u001b[38;5;28;01mas\u001b[39;00m opened_file:\n\u001b[1;32m    998\u001b[0m     \u001b[38;5;28;01mif\u001b[39;00m _is_zipfile(opened_file):\n\u001b[1;32m    999\u001b[0m         \u001b[38;5;66;03m# The zipfile reader is going to advance the current file position.\u001b[39;00m\n\u001b[1;32m   1000\u001b[0m         \u001b[38;5;66;03m# If we want to actually tail call to torch.jit.load, we need to\u001b[39;00m\n\u001b[1;32m   1001\u001b[0m         \u001b[38;5;66;03m# reset back to the original position.\u001b[39;00m\n\u001b[1;32m   1002\u001b[0m         orig_position \u001b[38;5;241m=\u001b[39m opened_file\u001b[38;5;241m.\u001b[39mtell()\n",
      "File \u001b[0;32m~/anaconda3/envs/pyg3/lib/python3.10/site-packages/torch/serialization.py:444\u001b[0m, in \u001b[0;36m_open_file_like\u001b[0;34m(name_or_buffer, mode)\u001b[0m\n\u001b[1;32m    442\u001b[0m \u001b[38;5;28;01mdef\u001b[39;00m \u001b[38;5;21m_open_file_like\u001b[39m(name_or_buffer, mode):\n\u001b[1;32m    443\u001b[0m     \u001b[38;5;28;01mif\u001b[39;00m _is_path(name_or_buffer):\n\u001b[0;32m--> 444\u001b[0m         \u001b[38;5;28;01mreturn\u001b[39;00m \u001b[43m_open_file\u001b[49m\u001b[43m(\u001b[49m\u001b[43mname_or_buffer\u001b[49m\u001b[43m,\u001b[49m\u001b[43m \u001b[49m\u001b[43mmode\u001b[49m\u001b[43m)\u001b[49m\n\u001b[1;32m    445\u001b[0m     \u001b[38;5;28;01melse\u001b[39;00m:\n\u001b[1;32m    446\u001b[0m         \u001b[38;5;28;01mif\u001b[39;00m \u001b[38;5;124m'\u001b[39m\u001b[38;5;124mw\u001b[39m\u001b[38;5;124m'\u001b[39m \u001b[38;5;129;01min\u001b[39;00m mode:\n",
      "File \u001b[0;32m~/anaconda3/envs/pyg3/lib/python3.10/site-packages/torch/serialization.py:425\u001b[0m, in \u001b[0;36m_open_file.__init__\u001b[0;34m(self, name, mode)\u001b[0m\n\u001b[1;32m    424\u001b[0m \u001b[38;5;28;01mdef\u001b[39;00m \u001b[38;5;21m__init__\u001b[39m(\u001b[38;5;28mself\u001b[39m, name, mode):\n\u001b[0;32m--> 425\u001b[0m     \u001b[38;5;28msuper\u001b[39m()\u001b[38;5;241m.\u001b[39m\u001b[38;5;21m__init__\u001b[39m(\u001b[38;5;28;43mopen\u001b[39;49m\u001b[43m(\u001b[49m\u001b[43mname\u001b[49m\u001b[43m,\u001b[49m\u001b[43m \u001b[49m\u001b[43mmode\u001b[49m\u001b[43m)\u001b[49m)\n",
      "\u001b[0;31mFileNotFoundError\u001b[0m: [Errno 2] No such file or directory: './experiments/ipcs/50N_C0.6_tanh_cd.pt'"
     ]
    }
   ],
   "source": [
    "#print(sur)\n",
    "#print(torch.mean(raw))\n",
    "#print(torch.mean(lin))\n",
    "print(\"average ipc value:\",float(torch.mean(rev)))\n",
    "\n",
    "#mfs = torch.load(f\"./experiments/mfs/{fn}_mf.pt\")\n",
    "c_d = torch.load(f\"./experiments/ipcs/{fn}_ipc.pt\")\n",
    "\n",
    "#print(torch.mean(capacities))\n",
    "\n",
    "capacities = c_d[0]\n",
    "dgrs = c_d[1] \n",
    "\n",
    "totMC=float(torch.sum(mfs))\n",
    "totCapacity = totMC+float(torch.sum(capacities))\n",
    "print(\"totoal capacity:\",totCapacity)\n",
    "print(\"MC:\",totMC)\n",
    "c_2nd=torch.sum(capacities[torch.argwhere(dgrs==2)])\n",
    "c_3rd=torch.sum(capacities[torch.argwhere(dgrs==3)])\n",
    "c_4th=torch.sum(capacities[torch.argwhere(dgrs==4)])\n",
    "c_5th=torch.sum(capacities[torch.argwhere(dgrs==5)])\n",
    "\n",
    "print(\"2nd order ipc:\",float(c_2nd))\n",
    "print(\"3rd order ipc:\",float(c_3rd))\n",
    "print(\"4th order ipc:\",float(c_4th))\n",
    "print(\"5th order ipc:\",float(c_5th))\n"
   ]
  },
  {
   "cell_type": "code",
   "execution_count": null,
   "id": "d2d56e5f-2f90-4f73-8d67-3f362b148a2d",
   "metadata": {},
   "outputs": [],
   "source": []
  },
  {
   "cell_type": "code",
   "execution_count": 128,
   "id": "7945df32-7555-4a57-ae19-ca974e4ff5ab",
   "metadata": {},
   "outputs": [
    {
     "name": "stdout",
     "output_type": "stream",
     "text": [
      "totoal capacity: 86.02329714510361\n",
      "totoal capacity: 81.31197083812299\n",
      "totoal capacity: 80.31906142795566\n",
      "totoal capacity: 81.62038846000735\n",
      "totoal capacity: 84.09173662451212\n",
      "totoal capacity: 87.11037884079188\n",
      "totoal capacity: 90.36450204034203\n",
      "totoal capacity: 93.68253118699204\n",
      "totoal capacity: 96.95742090593097\n",
      "totoal capacity: 100.12126223766572\n",
      "totoal capacity: 103.13649416432133\n",
      "totoal capacity: 105.9885863255563\n",
      "totoal capacity: 108.67558813955802\n",
      "totoal capacity: 111.19899408044441\n",
      "totoal capacity: 113.5593686422392\n",
      "totoal capacity: 115.75517374211834\n",
      "totoal capacity: 117.78239804939696\n",
      "totoal capacity: 119.63434313645716\n",
      "totoal capacity: 121.30196285922662\n",
      "totoal capacity: 122.77501538879815\n",
      "totoal capacity: 124.04381317337568\n",
      "totoal capacity: 125.10108446129489\n",
      "totoal capacity: 125.94346849244441\n",
      "totoal capacity: 126.57234716612939\n",
      "totoal capacity: 126.99394310494931\n",
      "totoal capacity: 127.21879829264557\n",
      "totoal capacity: 127.26084772606062\n",
      "totoal capacity: 127.13631967198512\n",
      "totoal capacity: 126.86265419152664\n",
      "totoal capacity: 126.45756667885382\n",
      "totoal capacity: 125.93831839396456\n",
      "totoal capacity: 125.32120517798641\n",
      "totoal capacity: 124.62124291146117\n",
      "totoal capacity: 123.85201211000367\n",
      "totoal capacity: 123.02562008934403\n",
      "totoal capacity: 122.15274270892553\n",
      "totoal capacity: 121.24271487375815\n",
      "totoal capacity: 120.30364694457424\n",
      "totoal capacity: 119.3425513472856\n"
     ]
    }
   ],
   "source": [
    "sigmas = torch.linspace(0.1,2.0,39)\n",
    "\n",
    "ipcs=torch.tensor(())\n",
    "for sigma in sigmas:\n",
    "    ipc=[]\n",
    "    fn = f\"100N_{sigma}s\"\n",
    "    mfs = torch.load(f\"./experiments/mfs/{fn}_mf.pt\")\n",
    "    c_d = torch.load(f\"./experiments/ipcs/{fn}_cd.pt\")\n",
    "    capacities = c_d[0]\n",
    "    dgrs = c_d[1]\n",
    "    \n",
    "    \n",
    "    totMC=float(torch.sum(mfs))\n",
    "    totCapacity = totMC+float(torch.sum(capacities))\n",
    "    print(\"totoal capacity:\",totCapacity)\n",
    "    #print(\"MC:\",totMC)\n",
    "    c_2nd=torch.sum(capacities[torch.argwhere(dgrs==2)])\n",
    "    c_3rd=torch.sum(capacities[torch.argwhere(dgrs==3)])\n",
    "    c_4th=torch.sum(capacities[torch.argwhere(dgrs==4)])\n",
    "    c_5th=torch.sum(capacities[torch.argwhere(dgrs==5)])\n",
    "    \"\"\"\n",
    "    print(\"2nd order ipc:\",float(c_2nd))\n",
    "    print(\"3rd order ipc:\",float(c_3rd))\n",
    "    print(\"4th order ipc:\",float(c_4th))\n",
    "    print(\"5th order ipc:\",float(c_5th))\n",
    "    \"\"\"\n",
    "    ipc = torch.tensor([totMC,c_2nd,c_3rd,c_4th,c_5th])\n",
    "    ipcs = torch.cat((ipcs,ipc.unsqueeze(0)),0)\n"
   ]
  },
  {
   "cell_type": "code",
   "execution_count": 89,
   "id": "ae1b77aa-a330-4eab-8fae-cd9ff18d220d",
   "metadata": {},
   "outputs": [
    {
     "name": "stdout",
     "output_type": "stream",
     "text": [
      "tensor([0.1000, 0.1500, 0.2000, 0.2500, 0.3000, 0.3500, 0.4000, 0.4500, 0.5000,\n",
      "        0.5500, 0.6000, 0.6500, 0.7000, 0.7500, 0.8000, 0.8500, 0.9000, 0.9500,\n",
      "        1.0000, 1.0500, 1.1000, 1.1500, 1.2000, 1.2500, 1.3000, 1.3500, 1.4000,\n",
      "        1.4500, 1.5000, 1.5500, 1.6000, 1.6500, 1.7000, 1.7500, 1.8000, 1.8500,\n",
      "        1.9000, 1.9500, 2.0000], device='cuda:0')\n"
     ]
    },
    {
     "data": {
      "text/plain": [
       "<matplotlib.legend.Legend at 0x7f542ad3c700>"
      ]
     },
     "execution_count": 89,
     "metadata": {},
     "output_type": "execute_result"
    },
    {
     "data": {
      "image/png": "[encoded data removed]",
      "text/plain": [
       "<Figure size 1200x500 with 1 Axes>"
      ]
     },
     "metadata": {},
     "output_type": "display_data"
    }
   ],
   "source": [
    "plt.figure(figsize=(12,5))\n",
    "bottom=np.zeros(39)\n",
    "print(sigmas)\n",
    "for i in range(5):\n",
    "    plt.bar(sigmas.cpu().numpy(),ipcs[:,i].cpu().numpy(),bottom=bottom,width=0.03,label=f\"{i+1} order ipc\")\n",
    "    bottom+=ipcs[:,i].cpu().numpy()\n",
    "plt.grid(True)\n",
    "plt.title(\"ipcs-sigma\")\n",
    "plt.xlabel(\"sigma\")\n",
    "plt.ylabel(\"capacity\")\n",
    "plt.legend()"
   ]
  },
  {
   "cell_type": "code",
   "execution_count": 111,
   "id": "63b18823-db34-41f9-8419-4aede2c61af4",
   "metadata": {},
   "outputs": [
    {
     "name": "stdout",
     "output_type": "stream",
     "text": [
      "[ 9.99880851e+01 -1.98817358e-02  7.54862927e-02  6.42443252e-02\n",
      "  1.34301339e-02]\n"
     ]
    },
    {
     "data": {
      "image/png": "[encoded data removed]",
      "text/plain": [
       "<Figure size 1200x500 with 1 Axes>"
      ]
     },
     "metadata": {},
     "output_type": "display_data"
    }
   ],
   "source": [
    "ipc = torch.tensor([totMC,c_2nd,c_3rd,c_4th,c_5th])\n",
    "plt.figure(figsize=(12,5))\n",
    "bottom=np.zeros(5)\n",
    "for i in range(5):\n",
    "    plt.bar(0,ipc[i].cpu().numpy(),bottom=bottom,width=0.03,label=f\"{i+1} order ipc\")\n",
    "    bottom+=ipc[i].cpu().numpy()\n",
    "plt.grid(True)\n",
    "plt.xlim(-1,1)\n",
    "plt.title(\"ipcs-sigma\")\n",
    "plt.xlabel(\"sigma\")\n",
    "plt.ylabel(\"capacity\")\n",
    "plt.legend()\n",
    "print((ipc.cpu().numpy()))"
   ]
  },
  {
   "cell_type": "code",
   "execution_count": null,
   "id": "7b72563a-a0a0-47cd-b47e-ff55cc46a783",
   "metadata": {},
   "outputs": [],
   "source": []
  }
 ],
 "metadata": {
  "kernelspec": {
   "display_name": "Python 3 (ipykernel)",
   "language": "python",
   "name": "python3"
  },
  "language_info": {
   "codemirror_mode": {
    "name": "ipython",
    "version": 3
   },
   "file_extension": ".py",
   "mimetype": "text/x-python",
   "name": "python",
   "nbconvert_exporter": "python",
   "pygments_lexer": "ipython3",
   "version": "3.10.14"
  }
 },
 "nbformat": 4,
 "nbformat_minor": 5
}
