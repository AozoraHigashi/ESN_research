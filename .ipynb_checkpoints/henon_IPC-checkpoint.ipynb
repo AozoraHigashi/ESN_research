{
 "cells": [
  {
   "cell_type": "code",
   "execution_count": 1,
   "id": "8801d071-152f-4808-8693-8a7a4b44cc88",
   "metadata": {},
   "outputs": [],
   "source": [
    "import Dynamics_Res\n",
    "import torch\n",
    "import matplotlib.pyplot as plt\n",
    "import ESN\n",
    "import time\n",
    "import numpy as np\n",
    "import json"
   ]
  },
  {
   "cell_type": "code",
   "execution_count": 2,
   "id": "febd4a27-4da1-4d30-837c-a32e2b42d0b0",
   "metadata": {},
   "outputs": [
    {
     "name": "stdout",
     "output_type": "stream",
     "text": [
      "loading inputs\n",
      "loading targets\n",
      "runtime : 24.360809803009033\n",
      "set threshold scale value: thr_scale= None\n"
     ]
    },
    {
     "ename": "ValueError",
     "evalue": "too many values to unpack (expected 4)",
     "output_type": "error",
     "traceback": [
      "\u001b[0;31m---------------------------------------------------------------------------\u001b[0m",
      "\u001b[0;31mValueError\u001b[0m                                Traceback (most recent call last)",
      "Cell \u001b[0;32mIn[2], line 31\u001b[0m\n\u001b[1;32m     26\u001b[0m \u001b[38;5;66;03m#torch.save(Xwo,f\"./experiments/datamatrices/{fn}_d.pt\")\u001b[39;00m\n\u001b[1;32m     27\u001b[0m \n\u001b[1;32m     28\u001b[0m \u001b[38;5;66;03m## calculate ipc\u001b[39;00m\n\u001b[1;32m     30\u001b[0m st \u001b[38;5;241m=\u001b[39m time\u001b[38;5;241m.\u001b[39mtime()\n\u001b[0;32m---> 31\u001b[0m raw,lin,rev,sur \u001b[38;5;241m=\u001b[39m ESN\u001b[38;5;241m.\u001b[39mcalc_capacity(Xwo,ti\u001b[38;5;241m.\u001b[39mtar_f,ret_all\u001b[38;5;241m=\u001b[39m\u001b[38;5;28;01mTrue\u001b[39;00m)\n\u001b[1;32m     32\u001b[0m \u001b[38;5;28mprint\u001b[39m(\u001b[38;5;124m\"\u001b[39m\u001b[38;5;124mipc :\u001b[39m\u001b[38;5;124m\"\u001b[39m,time\u001b[38;5;241m.\u001b[39mtime()\u001b[38;5;241m-\u001b[39mst)\n\u001b[1;32m     34\u001b[0m cap \u001b[38;5;241m=\u001b[39m rev\n",
      "\u001b[0;31mValueError\u001b[0m: too many values to unpack (expected 4)"
     ]
    }
   ],
   "source": [
    "torch.set_default_device(\"cuda:0\")\n",
    "torch.set_default_dtype(torch.double)\n",
    "\n",
    "# Parameters\n",
    "Two,Ttrain = 2000,100000\n",
    "\n",
    "sigma = 0.5\n",
    "\n",
    "fn_i = \"10N_2din\"\n",
    "print(\"\\r loading inputs\")\n",
    "u_sym = torch.load('./experiments/inputs/'+fn_i+'_i.pt',weights_only=False)\n",
    "print(\"\\r loading targets\")\n",
    "ti = torch.load('./experiments/target_info/10N_2din_ti.pt',weights_only=False)\n",
    "\n",
    "\n",
    "#fn = r\"henon_%.2f_s\"%\n",
    "\n",
    "## construct Henon map model\n",
    "## run and washout \n",
    "\n",
    "henon = Dynamics_Res.Henon()\n",
    "st = time.time()\n",
    "Xwo = henon.run_washout(u_sym, Two)\n",
    "print(\"runtime :\",time.time()-st)\n",
    "\n",
    "#torch.save(Xwo,f\"./experiments/datamatrices/{fn}_d.pt\")\n",
    "\n",
    "## calculate ipc\n",
    "\n",
    "st = time.time()\n",
    "raw,thr,thr_scl,rev,sur = ESN.calc_capacity(Xwo,ti.tar_f,ret_all=True)\n",
    "print(\"ipc :\",time.time()-st)\n",
    "\n",
    "cap = rev\n",
    "totCapacity = torch.sum(cap)\n",
    "\n",
    "#torch.save(capacities,f\"./experiments/ipcs/{fn}_c.pt\")\n",
    "#torch.save(raw,f\"./experiments/ipcs/{fn}_raw.pt\")\n",
    "#torch.save(sur,f\"./experiments/ipcs/{fn}_sur.pt\")\n",
    "\n",
    "print(\"totoal capacity:\",totCapacity)\n"
   ]
  },
  {
   "cell_type": "code",
   "execution_count": 9,
   "id": "ef505db8-7aa7-400a-a8cd-393f0f37ded2",
   "metadata": {},
   "outputs": [
    {
     "name": "stdout",
     "output_type": "stream",
     "text": [
      "set threshold scale value: thr_scale= None\n",
      "totoal capacity: tensor(0.5844, device='cuda:0')\n"
     ]
    }
   ],
   "source": [
    "raw,thr,thr_scl,rev,sur = ESN.calc_capacity(Xwo,ti.tar_f,ret_all=True,mean_normalization=True)\n",
    "\n",
    "cap = rev\n",
    "totCapacity = torch.sum(cap)\n",
    "\n",
    "#torch.save(capacities,f\"./experiments/ipcs/{fn}_c.pt\")\n",
    "#torch.save(raw,f\"./experiments/ipcs/{fn}_raw.pt\")\n",
    "#torch.save(sur,f\"./experiments/ipcs/{fn}_sur.pt\")\n",
    "\n",
    "print(\"totoal capacity:\",totCapacity)\n",
    "IPC=ESN.IPC_w_targetinfo(capacities=cap,target_info=ti)\n"
   ]
  },
  {
   "cell_type": "code",
   "execution_count": 15,
   "id": "97e15bbb-29aa-4b04-a74c-18ba8f7b8db3",
   "metadata": {},
   "outputs": [
    {
     "name": "stdout",
     "output_type": "stream",
     "text": [
      "1 deg 0.5759329394774811\n",
      "2 deg -0.00011995236935706935\n",
      "3 deg 0.00032788882200349097\n",
      "4 deg 0.003852072739147663\n",
      "totoal capacity: 0.5844282874451296\n"
     ]
    }
   ],
   "source": [
    "print(\"1 deg\",IPC.ipc_by_degree(1).cpu().numpy())\n",
    "print(\"2 deg\",IPC.ipc_by_degree(2).cpu().numpy())\n",
    "print(\"3 deg\",IPC.ipc_by_degree(3).cpu().numpy())\n",
    "print(\"4 deg\",IPC.ipc_by_degree(4).cpu().numpy())\n",
    "\n",
    "print(\"totoal capacity:\",totCapacity.cpu().numpy())"
   ]
  },
  {
   "cell_type": "code",
   "execution_count": 7,
   "id": "7251107a-1995-41ea-aa0b-04ae951d8e79",
   "metadata": {},
   "outputs": [
    {
     "name": "stdout",
     "output_type": "stream",
     "text": [
      "tensor([1.6007e-04, 1.1312e-05, 1.7035e-05, 5.2423e-05, 2.5965e-05, 1.4232e-05,\n",
      "        1.8257e-05, 8.1529e-06, 2.3149e-05, 1.1286e-05, 2.0466e-05, 1.3635e-05,\n",
      "        7.7030e-06, 1.9471e-05, 1.4257e-05, 9.2595e-06, 2.8509e-05, 1.2769e-05,\n",
      "        3.7119e-05, 1.5988e-05], device='cuda:0')\n"
     ]
    }
   ],
   "source": []
  },
  {
   "cell_type": "code",
   "execution_count": 1,
   "id": "8d1aabeb-adb5-4c59-81e4-7257d3e8dfa8",
   "metadata": {},
   "outputs": [
    {
     "name": "stdout",
     "output_type": "stream",
     "text": [
      " loading inputs\n",
      " loading targets\n"
     ]
    },
    {
     "ename": "AttributeError",
     "evalue": "'NoneType' object has no attribute 'run_washout'",
     "output_type": "error",
     "traceback": [
      "\u001b[0;31m---------------------------------------------------------------------------\u001b[0m",
      "\u001b[0;31mAttributeError\u001b[0m                            Traceback (most recent call last)",
      "Cell \u001b[0;32mIn[1], line 27\u001b[0m\n\u001b[1;32m     25\u001b[0m logistic \u001b[38;5;241m=\u001b[39m Dynamics_Res\u001b[38;5;241m.\u001b[39mLogistic()\n\u001b[1;32m     26\u001b[0m st \u001b[38;5;241m=\u001b[39m time\u001b[38;5;241m.\u001b[39mtime()\n\u001b[0;32m---> 27\u001b[0m Xwo \u001b[38;5;241m=\u001b[39m \u001b[43mlogistic\u001b[49m\u001b[38;5;241;43m.\u001b[39;49m\u001b[43mrun_washout\u001b[49m(u_sym, Two)\n\u001b[1;32m     28\u001b[0m \u001b[38;5;28mprint\u001b[39m(\u001b[38;5;124m\"\u001b[39m\u001b[38;5;124mruntime :\u001b[39m\u001b[38;5;124m\"\u001b[39m,time\u001b[38;5;241m.\u001b[39mtime()\u001b[38;5;241m-\u001b[39mst)\n\u001b[1;32m     30\u001b[0m \u001b[38;5;66;03m#torch.save(Xwo,f\"./experiments/datamatrices/{fn}_d.pt\")\u001b[39;00m\n\u001b[1;32m     31\u001b[0m \n\u001b[1;32m     32\u001b[0m \u001b[38;5;66;03m## calculate ipc\u001b[39;00m\n",
      "\u001b[0;31mAttributeError\u001b[0m: 'NoneType' object has no attribute 'run_washout'"
     ]
    }
   ],
   "source": [
    "import Dynamics_Res\n",
    "import torch\n",
    "import matplotlib.pyplot as plt\n",
    "import ESN\n",
    "import time\n",
    "import numpy as np\n",
    "import json\n",
    "torch.set_default_device(\"cuda:0\")\n",
    "torch.set_default_dtype(torch.double)\n",
    "\n",
    "# Parameters\n",
    "Two,Ttrain = 2000,100000\n",
    "\n",
    "sigma = 0.5\n",
    "\n",
    "\n",
    "\"\"\"\n",
    "fn_i = \"10N_2din\"\n",
    "print(\"\\r loading inputs\")\n",
    "u_sym = torch.load('./experiments/inputs/'+fn_i+'_i.pt',weights_only=False)\n",
    "print(\"\\r loading targets\")\n",
    "ti = torch.load('./experiments/target_info/10N_2din_ti.pt',weights_only=False)\n",
    "\"\"\"\n",
    "\n",
    "\n",
    "logistic = Dynamics_Res.Logistic(dim=2)\n",
    "st = time.time()\n",
    "Xwo = logistic.run_washout(u_sym, Two)\n",
    "print(\"runtime :\",time.time()-st)\n",
    "\n",
    "#torch.save(Xwo,f\"./experiments/datamatrices/{fn}_d.pt\")\n",
    "\n",
    "## calculate ipc\n",
    "\n",
    "st = timesigma_ipc_plot.ipynb()\n",
    "raw,thr,thr_scl,rev,sur = ESN.calc_capacity(Xwo,ti.tar_f,ret_all=True)\n",
    "print(\"ipc :\",time.time()-st)\n",
    "\n",
    "cap = rev\n",
    "totCapacity = torch.sum(cap)\n",
    "\n",
    "#torch.save(capacities,f\"./experiments/ipcs/{fn}_c.pt\")\n",
    "#torch.save(raw,f\"./experiments/ipcs/{fn}_raw.pt\")\n",
    "#torch.save(sur,f\"./experiments/ipcs/{fn}_sur.pt\")\n",
    "\n",
    "print(\"totoal capacity:\",totCapacity)\n"
   ]
  },
  {
   "cell_type": "code",
   "execution_count": null,
   "id": "24767336-cc25-4910-87d0-acec9819f9cc",
   "metadata": {},
   "outputs": [],
   "source": []
  }
 ],
 "metadata": {
  "kernelspec": {
   "display_name": "Python 3 (ipykernel)",
   "language": "python",
   "name": "python3"
  },
  "language_info": {
   "codemirror_mode": {
    "name": "ipython",
    "version": 3
   },
   "file_extension": ".py",
   "mimetype": "text/x-python",
   "name": "python",
   "nbconvert_exporter": "python",
   "pygments_lexer": "ipython3",
   "version": "3.10.9"
  }
 },
 "nbformat": 4,
 "nbformat_minor": 5
}
