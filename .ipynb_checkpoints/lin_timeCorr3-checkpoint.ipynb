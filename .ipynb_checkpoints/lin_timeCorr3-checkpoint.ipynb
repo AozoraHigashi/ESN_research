{
 "cells": [
  {
   "cell_type": "code",
   "execution_count": 3,
   "id": "0c68510f-564b-4d50-913a-6ce716a909a6",
   "metadata": {},
   "outputs": [
    {
     "ename": "KeyboardInterrupt",
     "evalue": "",
     "output_type": "error",
     "traceback": [
      "\u001b[0;31m---------------------------------------------------------------------------\u001b[0m",
      "\u001b[0;31mKeyboardInterrupt\u001b[0m                         Traceback (most recent call last)",
      "Cell \u001b[0;32mIn[3], line 51\u001b[0m\n\u001b[1;32m     48\u001b[0m esn \u001b[38;5;241m=\u001b[39m ESN\u001b[38;5;241m.\u001b[39mESN_mult(N_d, uC\u001b[38;5;241m=\u001b[39mC, dim\u001b[38;5;241m=\u001b[39mdim,rseed\u001b[38;5;241m=\u001b[39m\u001b[38;5;241m0\u001b[39m,idWin\u001b[38;5;241m=\u001b[39midWin)\n\u001b[1;32m     50\u001b[0m st \u001b[38;5;241m=\u001b[39m time\u001b[38;5;241m.\u001b[39mtime()\n\u001b[0;32m---> 51\u001b[0m Xwo \u001b[38;5;241m=\u001b[39m \u001b[43mesn\u001b[49m\u001b[38;5;241;43m.\u001b[39;49m\u001b[43mrun_washout\u001b[49m\u001b[43m(\u001b[49m\u001b[43mu_asym\u001b[49m\u001b[43m,\u001b[49m\u001b[43m \u001b[49m\u001b[43mTwo\u001b[49m\u001b[43m,\u001b[49m\u001b[43m \u001b[49m\u001b[43mactf\u001b[49m\u001b[38;5;241;43m=\u001b[39;49m\u001b[43mactf\u001b[49m\u001b[43m,\u001b[49m\u001b[43mbias\u001b[49m\u001b[38;5;241;43m=\u001b[39;49m\u001b[38;5;28;43;01mFalse\u001b[39;49;00m\u001b[43m)\u001b[49m\n\u001b[1;32m     52\u001b[0m \u001b[38;5;28mprint\u001b[39m(\u001b[38;5;124m\"\u001b[39m\u001b[38;5;124mruntime :\u001b[39m\u001b[38;5;124m\"\u001b[39m,time\u001b[38;5;241m.\u001b[39mtime()\u001b[38;5;241m-\u001b[39mst)\n\u001b[1;32m     54\u001b[0m st \u001b[38;5;241m=\u001b[39m time\u001b[38;5;241m.\u001b[39mtime()\n",
      "File \u001b[0;32m~/NASshare/Higashi/ESN_research/ESN.py:52\u001b[0m, in \u001b[0;36mESN_mult.run_washout\u001b[0;34m(self, u, Two, actf, f, X0, bias)\u001b[0m\n\u001b[1;32m     50\u001b[0m         b \u001b[38;5;241m=\u001b[39m torch\u001b[38;5;241m.\u001b[39mrand(\u001b[38;5;28mself\u001b[39m\u001b[38;5;241m.\u001b[39mN)\u001b[38;5;241m*\u001b[39m\u001b[38;5;241m0.5\u001b[39m\n\u001b[1;32m     51\u001b[0m         X[t] \u001b[38;5;241m=\u001b[39m f(\u001b[38;5;28mself\u001b[39m\u001b[38;5;241m.\u001b[39mW \u001b[38;5;241m@\u001b[39m X[t \u001b[38;5;241m-\u001b[39m \u001b[38;5;241m1\u001b[39m] \u001b[38;5;241m+\u001b[39m \u001b[38;5;28mself\u001b[39m\u001b[38;5;241m.\u001b[39mWin \u001b[38;5;241m@\u001b[39m u[:, t \u001b[38;5;241m-\u001b[39m \u001b[38;5;241m1\u001b[39m] \u001b[38;5;241m+\u001b[39m b)\n\u001b[0;32m---> 52\u001b[0m     \u001b[38;5;28;01melse\u001b[39;00m : X[t] \u001b[38;5;241m=\u001b[39m f(\u001b[38;5;28;43mself\u001b[39;49m\u001b[38;5;241;43m.\u001b[39;49m\u001b[43mW\u001b[49m\u001b[43m \u001b[49m\u001b[38;5;241;43m@\u001b[39;49m\u001b[43m \u001b[49m\u001b[43mX\u001b[49m\u001b[43m[\u001b[49m\u001b[43mt\u001b[49m\u001b[43m \u001b[49m\u001b[38;5;241;43m-\u001b[39;49m\u001b[43m \u001b[49m\u001b[38;5;241;43m1\u001b[39;49m\u001b[43m]\u001b[49m\u001b[43m \u001b[49m\u001b[38;5;241;43m+\u001b[39;49m\u001b[43m \u001b[49m\u001b[38;5;28;43mself\u001b[39;49m\u001b[38;5;241;43m.\u001b[39;49m\u001b[43mWin\u001b[49m\u001b[43m \u001b[49m\u001b[38;5;241;43m@\u001b[39;49m\u001b[43m \u001b[49m\u001b[43mu\u001b[49m\u001b[43m[\u001b[49m\u001b[43m:\u001b[49m\u001b[43m,\u001b[49m\u001b[43m \u001b[49m\u001b[43mt\u001b[49m\u001b[43m \u001b[49m\u001b[38;5;241;43m-\u001b[39;49m\u001b[43m \u001b[49m\u001b[38;5;241;43m1\u001b[39;49m\u001b[43m]\u001b[49m)\n\u001b[1;32m     53\u001b[0m Xwo \u001b[38;5;241m=\u001b[39m torch\u001b[38;5;241m.\u001b[39mhstack([X[Two:], torch\u001b[38;5;241m.\u001b[39mones(T \u001b[38;5;241m-\u001b[39m Two, \u001b[38;5;241m1\u001b[39m)])\n\u001b[1;32m     54\u001b[0m \u001b[38;5;28;01mreturn\u001b[39;00m Xwo\n",
      "File \u001b[0;32m~/anaconda3/lib/python3.10/site-packages/torch/utils/_device.py:106\u001b[0m, in \u001b[0;36mDeviceContext.__torch_function__\u001b[0;34m(self, func, types, args, kwargs)\u001b[0m\n\u001b[1;32m    104\u001b[0m \u001b[38;5;28;01mif\u001b[39;00m func \u001b[38;5;129;01min\u001b[39;00m _device_constructors() \u001b[38;5;129;01mand\u001b[39;00m kwargs\u001b[38;5;241m.\u001b[39mget(\u001b[38;5;124m'\u001b[39m\u001b[38;5;124mdevice\u001b[39m\u001b[38;5;124m'\u001b[39m) \u001b[38;5;129;01mis\u001b[39;00m \u001b[38;5;28;01mNone\u001b[39;00m:\n\u001b[1;32m    105\u001b[0m     kwargs[\u001b[38;5;124m'\u001b[39m\u001b[38;5;124mdevice\u001b[39m\u001b[38;5;124m'\u001b[39m] \u001b[38;5;241m=\u001b[39m \u001b[38;5;28mself\u001b[39m\u001b[38;5;241m.\u001b[39mdevice\n\u001b[0;32m--> 106\u001b[0m \u001b[38;5;28;01mreturn\u001b[39;00m \u001b[43mfunc\u001b[49m\u001b[43m(\u001b[49m\u001b[38;5;241;43m*\u001b[39;49m\u001b[43margs\u001b[49m\u001b[43m,\u001b[49m\u001b[43m \u001b[49m\u001b[38;5;241;43m*\u001b[39;49m\u001b[38;5;241;43m*\u001b[39;49m\u001b[43mkwargs\u001b[49m\u001b[43m)\u001b[49m\n",
      "\u001b[0;31mKeyboardInterrupt\u001b[0m: "
     ]
    }
   ],
   "source": [
    "\"\"\" 2 dim switching input \n",
    "    with identical Win\n",
    "\"\"\" \n",
    "\n",
    "\n",
    "import torch\n",
    "import matplotlib.pyplot as plt\n",
    "import ESN\n",
    "import time\n",
    "import numpy as np\n",
    "torch.set_default_device(\"cuda:0\")\n",
    "torch.set_default_dtype(torch.double)\n",
    "# Parameters\n",
    "Two,Ttrain = 2000,1000000\n",
    "N = 100\n",
    "C = 0.9\n",
    "rho = 0\n",
    "dim = 2\n",
    "idWin = True\n",
    "actf= \"identity\"\n",
    "\n",
    "\n",
    "N_d = int(N * dim)\n",
    "maxtau = int(N_d * 2)\n",
    "taus = np.arange(1,maxtau)\n",
    "\n",
    "\n",
    "\n",
    "torch.manual_seed(0)\n",
    "\n",
    "\n",
    "\n",
    "#u_asym = torch.rand(1, Two + Ttrain)\n",
    "\n",
    "x = torch.normal(0,1/3,(1,Two+Ttrain),device=\"cuda:0\")\n",
    "\n",
    "y = torch.rand((1,Two+Ttrain))*2-1\n",
    "\n",
    "zero = torch.zeros((1,Two+Ttrain))\n",
    "\n",
    "u_1_zero =torch.vstack((x,zero))\n",
    "u_1 = torch.tensor([[ u_1_zero[int((t+1)%2),t] for t in range(Two+Ttrain)]])\n",
    "u_2_zero =torch.vstack((y,zero))\n",
    "u_2 = torch.tensor([[ u_2_zero[int(t%2),t] for t in range(Two+Ttrain)]])\n",
    "\n",
    "u_asym=torch.vstack((u_1,u_2))\n",
    "\n",
    "esn = ESN.ESN_mult(N_d, uC=C, dim=dim,rseed=0,idWin=idWin)\n",
    "\n",
    "\n",
    "print(\"stat running\")\n",
    "st = time.time()\n",
    "Xwo = esn.run_washout(u_asym, Two, actf=actf,bias=False)\n",
    "print(\"runtime :\",time.time()-st)\n",
    "\n",
    "st = time.time()\n",
    "#\n",
    "raw,lin,rev,sur = ESN.MC_cSVD_asym(u_asym, Xwo, maxtau,ret_all=True)\n",
    "#raw_tilde,lin_tilde,rev_tilde,sur_tilde = ESN.MC_cSVD_asym(u_tilde, Xwo, maxtau,ret_all=True)\n",
    "\n",
    "\n",
    "mfs=rev\n",
    "#mfs_tilde=rev_tilde\n",
    "\n",
    "print(\"calc time :\",time.time()-st)\n"
   ]
  },
  {
   "cell_type": "code",
   "execution_count": null,
   "id": "fbb702cf-9e70-4d10-a746-f1952a2b7023",
   "metadata": {},
   "outputs": [],
   "source": [
    "fig,ax = plt.subplots(figsize=(12,8))\n",
    "\n",
    "maxT=30\n",
    "x_ = np.arange(Two+Ttrain)\n",
    "\n",
    "for d in range(dim):\n",
    "    plt.plot(x_[:maxT],u_asym[d][:maxT].cpu().numpy(),alpha=0.6,label=\"dim \"+str(d))\n",
    "\n",
    "    \n",
    "#plt.ylim(-0.1,1.1)\n",
    "plt.xlabel(\"t\")\n",
    "plt.ylabel(r'u(t)')\n",
    "plt.title(r\"input\")\n",
    "#\n",
    "plt.legend()\n",
    "plt.grid(True)"
   ]
  },
  {
   "cell_type": "code",
   "execution_count": null,
   "id": "2930fc4d-7367-4e24-8571-9bae39ae3544",
   "metadata": {},
   "outputs": [],
   "source": [
    "\n",
    "fn=\"2d_switching_idwin\"\n",
    "torch.save(u_asym,f\"./experiments/inputs/{fn}_i.pt\")\n",
    "torch.save(Xwo,f\"./experiments/datamatrices/{fn}_lin_d.pt\")\n"
   ]
  },
  {
   "cell_type": "code",
   "execution_count": null,
   "id": "52742c52-614c-458c-9b2f-c17a511c95ec",
   "metadata": {},
   "outputs": [],
   "source": [
    "\n",
    "totMC = torch.sum(mfs).cpu().numpy()\n",
    "#totMC_tilde = torch.sum(mfs_tilde).cpu().numpy()\n",
    "#print(\"totMC_tilde : \",totMC_tilde)\n",
    "print(f\"totMC:{totMC}\\nsurrogate value: {sur.cpu().numpy()}\")\n",
    "\n"
   ]
  },
  {
   "cell_type": "code",
   "execution_count": null,
   "id": "8d294617-20c3-4dba-832b-6a802fe44228",
   "metadata": {},
   "outputs": [],
   "source": [
    "fig,ax = plt.subplots(figsize=(12,8))\n",
    "for d in range(dim):\n",
    "    plt.plot(taus,mfs[d].cpu().numpy(),alpha=0.6,label=\"dim \"+str(d))\n",
    "#    plt.plot(taus,raw[d].cpu().numpy(),alpha=0.6,label=\"dim \"+str(d)+\" raw\")\n",
    "    \n",
    "    #plt.plot(taus,mfs_tilde[d].cpu().numpy(),alpha=0.6,label= \"dim \"+str(d)+\" (normalized)\")\n",
    "    \n",
    "plt.ylim(-0.1,1.1)\n",
    "plt.xlabel(\"delay\")\n",
    "plt.ylabel(r'Memory function $MC^{(k)}(\\tau)$')\n",
    "plt.title(r'Ttr = %d, C=%.2f,$N=%d, totalMC=%.1f$'%(Ttrain,C,N_d,totMC))\n",
    "#\n",
    "plt.legend()\n",
    "plt.grid(True)"
   ]
  },
  {
   "cell_type": "code",
   "execution_count": null,
   "id": "d8a7a61e-2de0-41f9-bd75-155737287f67",
   "metadata": {},
   "outputs": [],
   "source": []
  },
  {
   "cell_type": "code",
   "execution_count": null,
   "id": "a83d5acf-90c9-453d-8335-1643e7097d55",
   "metadata": {},
   "outputs": [],
   "source": []
  }
 ],
 "metadata": {
  "kernelspec": {
   "display_name": "Python 3 (ipykernel)",
   "language": "python",
   "name": "python3"
  },
  "language_info": {
   "codemirror_mode": {
    "name": "ipython",
    "version": 3
   },
   "file_extension": ".py",
   "mimetype": "text/x-python",
   "name": "python",
   "nbconvert_exporter": "python",
   "pygments_lexer": "ipython3",
   "version": "3.10.9"
  }
 },
 "nbformat": 4,
 "nbformat_minor": 5
}
