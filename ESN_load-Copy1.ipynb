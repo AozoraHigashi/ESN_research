{
 "cells": [
  {
   "cell_type": "code",
   "execution_count": 1,
   "id": "dc7489a9-c6a6-4dac-b4e3-d7893ccdc0f3",
   "metadata": {},
   "outputs": [],
   "source": [
    "import torch\n",
    "import matplotlib.pyplot as plt\n",
    "import ESN\n",
    "import time\n",
    "import numpy as np\n",
    "import json"
   ]
  },
  {
   "cell_type": "code",
   "execution_count": 3,
   "id": "3afd85e7-231a-4df6-b0d8-d514bf08a516",
   "metadata": {},
   "outputs": [],
   "source": [
    "torch.set_default_device(\"cuda:0\")\n",
    "torch.set_default_dtype(torch.double)"
   ]
  },
  {
   "cell_type": "code",
   "execution_count": 4,
   "id": "c21b77c4-166a-446f-99ff-50ce838d973b",
   "metadata": {},
   "outputs": [],
   "source": [
    "#\n",
    "fn=\"100N_2din_tanh\"\n",
    "fn=\"50N_tanh_10K\"\n",
    "fn=\"10N_3din\"\n"
   ]
  },
  {
   "cell_type": "code",
   "execution_count": 5,
   "id": "88ef951b-0391-44f8-80c5-0e2b826ef046",
   "metadata": {},
   "outputs": [
    {
     "name": "stdin",
     "output_type": "stream",
     "text": [
      "set file name :  a\n"
     ]
    }
   ],
   "source": [
    "fn = input(\"set file name : \")"
   ]
  },
  {
   "cell_type": "code",
   "execution_count": 8,
   "id": "f09c7477-756a-41ee-96f2-efb91d775a50",
   "metadata": {},
   "outputs": [
    {
     "ename": "FileNotFoundError",
     "evalue": "[Errno 2] No such file or directory: './experiments/settings/a_s.txt'",
     "output_type": "error",
     "traceback": [
      "\u001b[0;31m---------------------------------------------------------------------------\u001b[0m",
      "\u001b[0;31mFileNotFoundError\u001b[0m                         Traceback (most recent call last)",
      "Cell \u001b[0;32mIn[8], line 2\u001b[0m\n\u001b[1;32m      1\u001b[0m \u001b[38;5;66;03m## load data\u001b[39;00m\n\u001b[0;32m----> 2\u001b[0m \u001b[38;5;28;01mwith\u001b[39;00m \u001b[38;5;28;43mopen\u001b[39;49m\u001b[43m(\u001b[49m\u001b[38;5;124;43m'\u001b[39;49m\u001b[38;5;124;43m./experiments/settings/\u001b[39;49m\u001b[38;5;124;43m'\u001b[39;49m\u001b[38;5;241;43m+\u001b[39;49m\u001b[43mfn\u001b[49m\u001b[38;5;241;43m+\u001b[39;49m\u001b[38;5;124;43m'\u001b[39;49m\u001b[38;5;124;43m_s.txt\u001b[39;49m\u001b[38;5;124;43m'\u001b[39;49m\u001b[43m,\u001b[49m\u001b[43m \u001b[49m\u001b[38;5;124;43m'\u001b[39;49m\u001b[38;5;124;43mr\u001b[39;49m\u001b[38;5;124;43m'\u001b[39;49m\u001b[43m)\u001b[49m \u001b[38;5;28;01mas\u001b[39;00m fp:\n\u001b[1;32m      3\u001b[0m     setting \u001b[38;5;241m=\u001b[39m json\u001b[38;5;241m.\u001b[39mload(fp)\n\u001b[1;32m      5\u001b[0m u_sym \u001b[38;5;241m=\u001b[39m torch\u001b[38;5;241m.\u001b[39mload(\u001b[38;5;124m'\u001b[39m\u001b[38;5;124m./experiments/inputs/\u001b[39m\u001b[38;5;124m'\u001b[39m\u001b[38;5;241m+\u001b[39mfn\u001b[38;5;241m+\u001b[39m\u001b[38;5;124m'\u001b[39m\u001b[38;5;124m_i.pt\u001b[39m\u001b[38;5;124m'\u001b[39m)\n",
      "File \u001b[0;32m~/anaconda3/lib/python3.10/site-packages/IPython/core/interactiveshell.py:282\u001b[0m, in \u001b[0;36m_modified_open\u001b[0;34m(file, *args, **kwargs)\u001b[0m\n\u001b[1;32m    275\u001b[0m \u001b[38;5;28;01mif\u001b[39;00m file \u001b[38;5;129;01min\u001b[39;00m {\u001b[38;5;241m0\u001b[39m, \u001b[38;5;241m1\u001b[39m, \u001b[38;5;241m2\u001b[39m}:\n\u001b[1;32m    276\u001b[0m     \u001b[38;5;28;01mraise\u001b[39;00m \u001b[38;5;167;01mValueError\u001b[39;00m(\n\u001b[1;32m    277\u001b[0m         \u001b[38;5;124mf\u001b[39m\u001b[38;5;124m\"\u001b[39m\u001b[38;5;124mIPython won\u001b[39m\u001b[38;5;124m'\u001b[39m\u001b[38;5;124mt let you open fd=\u001b[39m\u001b[38;5;132;01m{\u001b[39;00mfile\u001b[38;5;132;01m}\u001b[39;00m\u001b[38;5;124m by default \u001b[39m\u001b[38;5;124m\"\u001b[39m\n\u001b[1;32m    278\u001b[0m         \u001b[38;5;124m\"\u001b[39m\u001b[38;5;124mas it is likely to crash IPython. If you know what you are doing, \u001b[39m\u001b[38;5;124m\"\u001b[39m\n\u001b[1;32m    279\u001b[0m         \u001b[38;5;124m\"\u001b[39m\u001b[38;5;124myou can use builtins\u001b[39m\u001b[38;5;124m'\u001b[39m\u001b[38;5;124m open.\u001b[39m\u001b[38;5;124m\"\u001b[39m\n\u001b[1;32m    280\u001b[0m     )\n\u001b[0;32m--> 282\u001b[0m \u001b[38;5;28;01mreturn\u001b[39;00m \u001b[43mio_open\u001b[49m\u001b[43m(\u001b[49m\u001b[43mfile\u001b[49m\u001b[43m,\u001b[49m\u001b[43m \u001b[49m\u001b[38;5;241;43m*\u001b[39;49m\u001b[43margs\u001b[49m\u001b[43m,\u001b[49m\u001b[43m \u001b[49m\u001b[38;5;241;43m*\u001b[39;49m\u001b[38;5;241;43m*\u001b[39;49m\u001b[43mkwargs\u001b[49m\u001b[43m)\u001b[49m\n",
      "\u001b[0;31mFileNotFoundError\u001b[0m: [Errno 2] No such file or directory: './experiments/settings/a_s.txt'"
     ]
    }
   ],
   "source": [
    "## load data\n",
    "with open('./experiments/settings/'+fn+'_s.txt', 'r') as fp:\n",
    "    setting = json.load(fp)\n",
    "u_sym = torch.load('./experiments/inputs/'+fn+'_i.pt')\n",
    "Two = setting[\"Two\"]"
   ]
  },
  {
   "cell_type": "code",
   "execution_count": null,
   "id": "6f1b5437-4e5f-42fc-8f02-2b373480de1f",
   "metadata": {},
   "outputs": [],
   "source": [
    "Xwo = torch.load('./experiments/datamatrices/'+fn+'_d.pt')\n"
   ]
  },
  {
   "cell_type": "code",
   "execution_count": 9,
   "id": "e36bbb93-685a-4931-a5b9-45c10ba797b1",
   "metadata": {},
   "outputs": [
    {
     "ename": "NameError",
     "evalue": "name 'setting' is not defined",
     "output_type": "error",
     "traceback": [
      "\u001b[0;31m---------------------------------------------------------------------------\u001b[0m",
      "\u001b[0;31mNameError\u001b[0m                                 Traceback (most recent call last)",
      "Cell \u001b[0;32mIn[9], line 3\u001b[0m\n\u001b[1;32m      1\u001b[0m \u001b[38;5;66;03m## calculate memory capacity\u001b[39;00m\n\u001b[0;32m----> 3\u001b[0m N \u001b[38;5;241m=\u001b[39m \u001b[43msetting\u001b[49m[\u001b[38;5;124m\"\u001b[39m\u001b[38;5;124mNodes\u001b[39m\u001b[38;5;124m\"\u001b[39m]\n\u001b[1;32m      4\u001b[0m dim \u001b[38;5;241m=\u001b[39m setting[\u001b[38;5;124m\"\u001b[39m\u001b[38;5;124minput dim\u001b[39m\u001b[38;5;124m\"\u001b[39m]\n\u001b[1;32m      5\u001b[0m \u001b[38;5;28;01mif\u001b[39;00m setting[\u001b[38;5;124m\"\u001b[39m\u001b[38;5;124midentical Win\u001b[39m\u001b[38;5;124m\"\u001b[39m]:\n",
      "\u001b[0;31mNameError\u001b[0m: name 'setting' is not defined"
     ]
    }
   ],
   "source": [
    "## calculate memory capacity\n",
    "\n",
    "N = setting[\"Nodes\"]\n",
    "dim = setting[\"input dim\"]\n",
    "if setting[\"identical Win\"]:\n",
    "    maxtau = int(N*2) \n",
    "else : maxtau =  int(N/dim *2) \n",
    "\n",
    "\"\"\" tweak maxtau here \"\"\"\n",
    "##maxtau=int(N*10)\n",
    "##\n",
    "\n",
    "st = time.time()\n",
    "#mfs = ESN.MC_cSVD_old(u_sym, Xwo, maxtau)\n",
    "#mfs = ESN.MC_cSVD(u_sym, Xwo, maxtau)\n",
    "mfs_raw, mfs_lin, mfs_rev, sur_value = ESN.MC_cSVD(u_sym, Xwo, maxtau,ret_all=True)\n",
    "mfs = mfs_rev\n",
    "\n",
    "print(r\"mc calc time :%.3f s\"%(time.time()-st))\n",
    "print(\"total MC :\",float(torch.sum(mfs)))\n",
    "print(float(sur_value))\n",
    "\n",
    "\n",
    "#torch.save(mfs,f\"./experiments/mfs/{fn}_mf.pt\")\n",
    "#torch.save(mfs_raw,f\"./experiments/mfs/{fn}_raw.pt\")\n",
    "#torch.save(sur_value,f\"./experiments/mfs/{fn}_sur.pt\")\n"
   ]
  },
  {
   "cell_type": "code",
   "execution_count": 10,
   "id": "550ce726-0070-4184-9531-cd315773420f",
   "metadata": {},
   "outputs": [
    {
     "ename": "NameError",
     "evalue": "name 'u_sym' is not defined",
     "output_type": "error",
     "traceback": [
      "\u001b[0;31m---------------------------------------------------------------------------\u001b[0m",
      "\u001b[0;31mNameError\u001b[0m                                 Traceback (most recent call last)",
      "Cell \u001b[0;32mIn[10], line 7\u001b[0m\n\u001b[1;32m      4\u001b[0m maxdd\u001b[38;5;241m=\u001b[39m[[\u001b[38;5;241m1\u001b[39m,\u001b[38;5;241m150\u001b[39m],[\u001b[38;5;241m2\u001b[39m,\u001b[38;5;241m10\u001b[39m],[\u001b[38;5;241m3\u001b[39m,\u001b[38;5;241m20\u001b[39m],[\u001b[38;5;241m4\u001b[39m,\u001b[38;5;241m10\u001b[39m],[\u001b[38;5;241m5\u001b[39m,\u001b[38;5;241m10\u001b[39m]]\n\u001b[1;32m      6\u001b[0m st \u001b[38;5;241m=\u001b[39m time\u001b[38;5;241m.\u001b[39mtime()\n\u001b[0;32m----> 7\u001b[0m target_info \u001b[38;5;241m=\u001b[39m ESN\u001b[38;5;241m.\u001b[39mmake_targets(\u001b[43mu_sym\u001b[49m,maxdd,Two\u001b[38;5;241m=\u001b[39mTwo)\n\u001b[1;32m      8\u001b[0m \u001b[38;5;28mprint\u001b[39m(\u001b[38;5;124mr\u001b[39m\u001b[38;5;124m\"\u001b[39m\u001b[38;5;124mtarget create time:\u001b[39m\u001b[38;5;132;01m%.3f\u001b[39;00m\u001b[38;5;124m s\u001b[39m\u001b[38;5;124m\"\u001b[39m\u001b[38;5;241m%\u001b[39m(time\u001b[38;5;241m.\u001b[39mtime()\u001b[38;5;241m-\u001b[39mst))\n",
      "\u001b[0;31mNameError\u001b[0m: name 'u_sym' is not defined"
     ]
    }
   ],
   "source": [
    "\"\"\"  TEMPORARY CELL  \"\"\"\n",
    "\n",
    "## set max delay, degree\n",
    "maxdd=[[1,150],[2,10],[3,20],[4,10],[5,10]]\n",
    "\n",
    "st = time.time()\n",
    "target_info = ESN.make_targets(u_sym,maxdd,Two=Two)\n",
    "print(r\"target create time:%.3f s\"%(time.time()-st))\n",
    "#torch.save(target_info,f\"./experiments/target_info/{fn}_3rd_ti.pt\")\n",
    "\n",
    "#st = time.time()\n",
    "#ti = torch.load('./experiments/target_info/'+fn+'_7th_ti.pt')\n",
    "#print(\"load time:\",time.time()-st)"
   ]
  },
  {
   "cell_type": "code",
   "execution_count": 11,
   "id": "c01321c8-fc11-49d7-956e-351b8af7a58d",
   "metadata": {},
   "outputs": [
    {
     "ename": "NameError",
     "evalue": "name 'target_info' is not defined",
     "output_type": "error",
     "traceback": [
      "\u001b[0;31m---------------------------------------------------------------------------\u001b[0m",
      "\u001b[0;31mNameError\u001b[0m                                 Traceback (most recent call last)",
      "Cell \u001b[0;32mIn[11], line 1\u001b[0m\n\u001b[0;32m----> 1\u001b[0m torch\u001b[38;5;241m.\u001b[39msave(\u001b[43mtarget_info\u001b[49m,\u001b[38;5;124mf\u001b[39m\u001b[38;5;124m\"\u001b[39m\u001b[38;5;124m./experiments/target_info/\u001b[39m\u001b[38;5;132;01m{\u001b[39;00mfn\u001b[38;5;132;01m}\u001b[39;00m\u001b[38;5;124m_ti.pt\u001b[39m\u001b[38;5;124m\"\u001b[39m)\n\u001b[1;32m      2\u001b[0m torch\u001b[38;5;241m.\u001b[39msave(ipc,\u001b[38;5;124mf\u001b[39m\u001b[38;5;124m\"\u001b[39m\u001b[38;5;124m./experiments/ipcs/\u001b[39m\u001b[38;5;132;01m{\u001b[39;00mfn\u001b[38;5;132;01m}\u001b[39;00m\u001b[38;5;124m_ipc.pt\u001b[39m\u001b[38;5;124m\"\u001b[39m)\n",
      "\u001b[0;31mNameError\u001b[0m: name 'target_info' is not defined"
     ]
    }
   ],
   "source": [
    "torch.save(target_info,f\"./experiments/target_info/{fn}_ti.pt\")\n",
    "torch.save(ipc,f\"./experiments/ipcs/{fn}_ipc.pt\")"
   ]
  },
  {
   "cell_type": "code",
   "execution_count": 12,
   "id": "5f8e7763-0dfb-465c-9a47-4c713140d3f5",
   "metadata": {},
   "outputs": [
    {
     "ename": "NameError",
     "evalue": "name 'target_info' is not defined",
     "output_type": "error",
     "traceback": [
      "\u001b[0;31m---------------------------------------------------------------------------\u001b[0m",
      "\u001b[0;31mNameError\u001b[0m                                 Traceback (most recent call last)",
      "Cell \u001b[0;32mIn[12], line 3\u001b[0m\n\u001b[1;32m      1\u001b[0m \u001b[38;5;124;03m\"\"\"  TEMPORARY CELL  \"\"\"\u001b[39;00m\n\u001b[1;32m      2\u001b[0m \u001b[38;5;66;03m#ti = ti.slice(0,4000)\u001b[39;00m\n\u001b[0;32m----> 3\u001b[0m ti\u001b[38;5;241m=\u001b[39m\u001b[43mtarget_info\u001b[49m\n\u001b[1;32m      4\u001b[0m st \u001b[38;5;241m=\u001b[39m time\u001b[38;5;241m.\u001b[39mtime()\n\u001b[1;32m      5\u001b[0m raw,lin,rev,sur \u001b[38;5;241m=\u001b[39m ESN\u001b[38;5;241m.\u001b[39mcalc_capacity(Xwo,ti\u001b[38;5;241m.\u001b[39mtar_f,ret_all\u001b[38;5;241m=\u001b[39m\u001b[38;5;28;01mTrue\u001b[39;00m)\n",
      "\u001b[0;31mNameError\u001b[0m: name 'target_info' is not defined"
     ]
    }
   ],
   "source": [
    "\"\"\"  TEMPORARY CELL  \"\"\"\n",
    "#ti = ti.slice(0,4000)\n",
    "ti=target_info\n",
    "st = time.time()\n",
    "raw,lin,rev,sur = ESN.calc_capacity(Xwo,ti.tar_f,ret_all=True)\n",
    "print(r\"ipc calc time :%.3f s\"%(time.time()-st))\n",
    "capacities = rev\n",
    "\n",
    "ipc=ESN.IPC(capacities,ti.delay,ti.degree,ti.in_dim,ti.maxddset)\n",
    "#torch.save(ipc,f\"./experiments/ipcs/{fn}_7th_ipc.pt\")\n",
    "#torch.save(ipc,f\"./experiments/ipcs/{fn}_3rd_ipc.pt\")\n"
   ]
  },
  {
   "cell_type": "code",
   "execution_count": 13,
   "id": "0b71992f-e505-4701-be15-e1e36e775e3e",
   "metadata": {},
   "outputs": [
    {
     "ename": "NameError",
     "evalue": "name 'u_sym' is not defined",
     "output_type": "error",
     "traceback": [
      "\u001b[0;31m---------------------------------------------------------------------------\u001b[0m",
      "\u001b[0;31mNameError\u001b[0m                                 Traceback (most recent call last)",
      "Cell \u001b[0;32mIn[13], line 15\u001b[0m\n\u001b[1;32m      6\u001b[0m maxdd\u001b[38;5;241m=\u001b[39m[[  \u001b[38;5;241m1\u001b[39m, \u001b[38;5;241m100\u001b[39m],\n\u001b[1;32m      7\u001b[0m        [  \u001b[38;5;241m2\u001b[39m,  \u001b[38;5;241m10\u001b[39m],\n\u001b[1;32m      8\u001b[0m        [  \u001b[38;5;241m3\u001b[39m,  \u001b[38;5;241m30\u001b[39m],\n\u001b[0;32m   (...)\u001b[0m\n\u001b[1;32m     11\u001b[0m        [  \u001b[38;5;241m6\u001b[39m,   \u001b[38;5;241m5\u001b[39m],\n\u001b[1;32m     12\u001b[0m        [  \u001b[38;5;241m7\u001b[39m,   \u001b[38;5;241m5\u001b[39m],]\n\u001b[1;32m     14\u001b[0m st \u001b[38;5;241m=\u001b[39m time\u001b[38;5;241m.\u001b[39mtime()\n\u001b[0;32m---> 15\u001b[0m target_info \u001b[38;5;241m=\u001b[39m ESN\u001b[38;5;241m.\u001b[39mmake_targets(\u001b[43mu_sym\u001b[49m,maxdd,Two\u001b[38;5;241m=\u001b[39mTwo)\n\u001b[1;32m     16\u001b[0m \u001b[38;5;28mprint\u001b[39m(\u001b[38;5;124mr\u001b[39m\u001b[38;5;124m\"\u001b[39m\u001b[38;5;124mtarget create time:\u001b[39m\u001b[38;5;132;01m%.3f\u001b[39;00m\u001b[38;5;124m s\u001b[39m\u001b[38;5;124m\"\u001b[39m\u001b[38;5;241m%\u001b[39m(time\u001b[38;5;241m.\u001b[39mtime()\u001b[38;5;241m-\u001b[39mst))\n\u001b[1;32m     17\u001b[0m torch\u001b[38;5;241m.\u001b[39msave(target_info,\u001b[38;5;124mf\u001b[39m\u001b[38;5;124m\"\u001b[39m\u001b[38;5;124m./experiments/target_info/\u001b[39m\u001b[38;5;132;01m{\u001b[39;00mfn\u001b[38;5;132;01m}\u001b[39;00m\u001b[38;5;124m_ti.pt\u001b[39m\u001b[38;5;124m\"\u001b[39m)\n",
      "\u001b[0;31mNameError\u001b[0m: name 'u_sym' is not defined"
     ]
    }
   ],
   "source": [
    "## calculate ipc\n",
    "\n",
    "## create target functions\n",
    "\n",
    "## set max delay, degree\n",
    "maxdd=[[  1, 100],\n",
    "       [  2,  10],\n",
    "       [  3,  30],\n",
    "       [  4,  10],\n",
    "       [  5,  10],\n",
    "       [  6,   5],\n",
    "       [  7,   5],]\n",
    "\n",
    "st = time.time()\n",
    "target_info = ESN.make_targets(u_sym,maxdd,Two=Two)\n",
    "print(r\"target create time:%.3f s\"%(time.time()-st))\n",
    "torch.save(target_info,f\"./experiments/target_info/{fn}_ti.pt\")\n",
    "\n"
   ]
  },
  {
   "cell_type": "code",
   "execution_count": 14,
   "id": "312816ee-029c-4503-949f-ee5b7b8d7ca9",
   "metadata": {},
   "outputs": [
    {
     "ename": "NameError",
     "evalue": "name 'target_info' is not defined",
     "output_type": "error",
     "traceback": [
      "\u001b[0;31m---------------------------------------------------------------------------\u001b[0m",
      "\u001b[0;31mNameError\u001b[0m                                 Traceback (most recent call last)",
      "Cell \u001b[0;32mIn[14], line 1\u001b[0m\n\u001b[0;32m----> 1\u001b[0m ti\u001b[38;5;241m=\u001b[39m\u001b[43mtarget_info\u001b[49m\n",
      "\u001b[0;31mNameError\u001b[0m: name 'target_info' is not defined"
     ]
    }
   ],
   "source": [
    "ti=target_info"
   ]
  },
  {
   "cell_type": "code",
   "execution_count": 15,
   "id": "6b69c7df-65ef-41ec-83cf-ff9152bdf636",
   "metadata": {},
   "outputs": [
    {
     "name": "stderr",
     "output_type": "stream",
     "text": [
      "/tmp/ipykernel_19624/1812488587.py:4: FutureWarning: You are using `torch.load` with `weights_only=False` (the current default value), which uses the default pickle module implicitly. It is possible to construct malicious pickle data which will execute arbitrary code during unpickling (See https://github.com/pytorch/pytorch/blob/main/SECURITY.md#untrusted-models for more details). In a future release, the default value for `weights_only` will be flipped to `True`. This limits the functions that could be executed during unpickling. Arbitrary objects will no longer be allowed to be loaded via this mode unless they are explicitly allowlisted by the user via `torch.serialization.add_safe_globals`. We recommend you start setting `weights_only=True` for any use case where you don't have full control of the loaded file. Please open an issue on GitHub for any issues related to this experimental feature.\n",
      "  ti = torch.load('./experiments/target_info/'+fn+'_ti.pt')\n"
     ]
    },
    {
     "ename": "FileNotFoundError",
     "evalue": "[Errno 2] No such file or directory: './experiments/target_info/a_ti.pt'",
     "output_type": "error",
     "traceback": [
      "\u001b[0;31m---------------------------------------------------------------------------\u001b[0m",
      "\u001b[0;31mFileNotFoundError\u001b[0m                         Traceback (most recent call last)",
      "Cell \u001b[0;32mIn[15], line 4\u001b[0m\n\u001b[1;32m      1\u001b[0m \u001b[38;5;66;03m## calculate capacities\u001b[39;00m\n\u001b[1;32m      3\u001b[0m st \u001b[38;5;241m=\u001b[39m time\u001b[38;5;241m.\u001b[39mtime()\n\u001b[0;32m----> 4\u001b[0m ti \u001b[38;5;241m=\u001b[39m \u001b[43mtorch\u001b[49m\u001b[38;5;241;43m.\u001b[39;49m\u001b[43mload\u001b[49m\u001b[43m(\u001b[49m\u001b[38;5;124;43m'\u001b[39;49m\u001b[38;5;124;43m./experiments/target_info/\u001b[39;49m\u001b[38;5;124;43m'\u001b[39;49m\u001b[38;5;241;43m+\u001b[39;49m\u001b[43mfn\u001b[49m\u001b[38;5;241;43m+\u001b[39;49m\u001b[38;5;124;43m'\u001b[39;49m\u001b[38;5;124;43m_ti.pt\u001b[39;49m\u001b[38;5;124;43m'\u001b[39;49m\u001b[43m)\u001b[49m\n\u001b[1;32m      5\u001b[0m \u001b[38;5;28mprint\u001b[39m(\u001b[38;5;124mr\u001b[39m\u001b[38;5;124m\"\u001b[39m\u001b[38;5;124mtarget load time :\u001b[39m\u001b[38;5;132;01m%.3f\u001b[39;00m\u001b[38;5;124m s\u001b[39m\u001b[38;5;124m\"\u001b[39m\u001b[38;5;241m%\u001b[39m(time\u001b[38;5;241m.\u001b[39mtime()\u001b[38;5;241m-\u001b[39mst))\n\u001b[1;32m      6\u001b[0m \u001b[38;5;28mprint\u001b[39m(ti\u001b[38;5;241m.\u001b[39mmaxddset)\n",
      "File \u001b[0;32m~/anaconda3/lib/python3.10/site-packages/torch/serialization.py:1319\u001b[0m, in \u001b[0;36mload\u001b[0;34m(f, map_location, pickle_module, weights_only, mmap, **pickle_load_args)\u001b[0m\n\u001b[1;32m   1316\u001b[0m \u001b[38;5;28;01mif\u001b[39;00m \u001b[38;5;124m\"\u001b[39m\u001b[38;5;124mencoding\u001b[39m\u001b[38;5;124m\"\u001b[39m \u001b[38;5;129;01mnot\u001b[39;00m \u001b[38;5;129;01min\u001b[39;00m pickle_load_args\u001b[38;5;241m.\u001b[39mkeys():\n\u001b[1;32m   1317\u001b[0m     pickle_load_args[\u001b[38;5;124m\"\u001b[39m\u001b[38;5;124mencoding\u001b[39m\u001b[38;5;124m\"\u001b[39m] \u001b[38;5;241m=\u001b[39m \u001b[38;5;124m\"\u001b[39m\u001b[38;5;124mutf-8\u001b[39m\u001b[38;5;124m\"\u001b[39m\n\u001b[0;32m-> 1319\u001b[0m \u001b[38;5;28;01mwith\u001b[39;00m \u001b[43m_open_file_like\u001b[49m\u001b[43m(\u001b[49m\u001b[43mf\u001b[49m\u001b[43m,\u001b[49m\u001b[43m \u001b[49m\u001b[38;5;124;43m\"\u001b[39;49m\u001b[38;5;124;43mrb\u001b[39;49m\u001b[38;5;124;43m\"\u001b[39;49m\u001b[43m)\u001b[49m \u001b[38;5;28;01mas\u001b[39;00m opened_file:\n\u001b[1;32m   1320\u001b[0m     \u001b[38;5;28;01mif\u001b[39;00m _is_zipfile(opened_file):\n\u001b[1;32m   1321\u001b[0m         \u001b[38;5;66;03m# The zipfile reader is going to advance the current file position.\u001b[39;00m\n\u001b[1;32m   1322\u001b[0m         \u001b[38;5;66;03m# If we want to actually tail call to torch.jit.load, we need to\u001b[39;00m\n\u001b[1;32m   1323\u001b[0m         \u001b[38;5;66;03m# reset back to the original position.\u001b[39;00m\n\u001b[1;32m   1324\u001b[0m         orig_position \u001b[38;5;241m=\u001b[39m opened_file\u001b[38;5;241m.\u001b[39mtell()\n",
      "File \u001b[0;32m~/anaconda3/lib/python3.10/site-packages/torch/serialization.py:659\u001b[0m, in \u001b[0;36m_open_file_like\u001b[0;34m(name_or_buffer, mode)\u001b[0m\n\u001b[1;32m    657\u001b[0m \u001b[38;5;28;01mdef\u001b[39;00m \u001b[38;5;21m_open_file_like\u001b[39m(name_or_buffer, mode):\n\u001b[1;32m    658\u001b[0m     \u001b[38;5;28;01mif\u001b[39;00m _is_path(name_or_buffer):\n\u001b[0;32m--> 659\u001b[0m         \u001b[38;5;28;01mreturn\u001b[39;00m \u001b[43m_open_file\u001b[49m\u001b[43m(\u001b[49m\u001b[43mname_or_buffer\u001b[49m\u001b[43m,\u001b[49m\u001b[43m \u001b[49m\u001b[43mmode\u001b[49m\u001b[43m)\u001b[49m\n\u001b[1;32m    660\u001b[0m     \u001b[38;5;28;01melse\u001b[39;00m:\n\u001b[1;32m    661\u001b[0m         \u001b[38;5;28;01mif\u001b[39;00m \u001b[38;5;124m\"\u001b[39m\u001b[38;5;124mw\u001b[39m\u001b[38;5;124m\"\u001b[39m \u001b[38;5;129;01min\u001b[39;00m mode:\n",
      "File \u001b[0;32m~/anaconda3/lib/python3.10/site-packages/torch/serialization.py:640\u001b[0m, in \u001b[0;36m_open_file.__init__\u001b[0;34m(self, name, mode)\u001b[0m\n\u001b[1;32m    639\u001b[0m \u001b[38;5;28;01mdef\u001b[39;00m \u001b[38;5;21m__init__\u001b[39m(\u001b[38;5;28mself\u001b[39m, name, mode):\n\u001b[0;32m--> 640\u001b[0m     \u001b[38;5;28msuper\u001b[39m()\u001b[38;5;241m.\u001b[39m\u001b[38;5;21m__init__\u001b[39m(\u001b[38;5;28;43mopen\u001b[39;49m\u001b[43m(\u001b[49m\u001b[43mname\u001b[49m\u001b[43m,\u001b[49m\u001b[43m \u001b[49m\u001b[43mmode\u001b[49m\u001b[43m)\u001b[49m)\n",
      "\u001b[0;31mFileNotFoundError\u001b[0m: [Errno 2] No such file or directory: './experiments/target_info/a_ti.pt'"
     ]
    }
   ],
   "source": [
    "## calculate capacities\n",
    "\n",
    "st = time.time()\n",
    "ti = torch.load('./experiments/target_info/'+fn+'_ti.pt')\n",
    "print(r\"target load time :%.3f s\"%(time.time()-st))\n",
    "print(ti.maxddset)\n",
    "\n",
    "st = time.time()\n",
    "#raw,lin,thr,rev,sur = ESN.calc_capacity(Xwo,ti.tar_f,ret_all=True,thr_scale=2,forced_sur=0.01)\n",
    "raw,lin,thr,rev,sur = ESN.calc_capacity(Xwo,ti.tar_f,ret_all=True,thr_scale=1.2,mean_normalization=True)\n",
    "print(r\"ipc calc time :%.3f s\"%(time.time()-st))\n",
    "capacities = thr\n",
    "\n",
    "\n",
    "\n",
    "ipc = ESN.IPC_w_targetinfo(capacities,ti)\n",
    "#ipc=ESN.IPC(capacities,ti.maxdelay,ti.degree,ti.maxddset,ti.in_dim)\n",
    "\n",
    "\n",
    "#torch.save(ipc,f\"./experiments/ipcs/{fn}_ipc.pt\")\n",
    "#torch.save(capacities,f\"./experiments/ipcs/{fn}_c.pt\")\n"
   ]
  },
  {
   "cell_type": "code",
   "execution_count": null,
   "id": "97f5762f-eb72-440b-ac23-05293b4196ab",
   "metadata": {},
   "outputs": [],
   "source": [
    "import sys\n",
    "print(sys.getsizeof(ti.tar_f))\n",
    "print(ti.tar_f.shape[1])\n",
    "print(80*9391*100000)"
   ]
  },
  {
   "cell_type": "code",
   "execution_count": 16,
   "id": "f9260567-62b5-4937-970c-c246e739c109",
   "metadata": {},
   "outputs": [
    {
     "ename": "NameError",
     "evalue": "name 'ipc' is not defined",
     "output_type": "error",
     "traceback": [
      "\u001b[0;31m---------------------------------------------------------------------------\u001b[0m",
      "\u001b[0;31mNameError\u001b[0m                                 Traceback (most recent call last)",
      "Cell \u001b[0;32mIn[16], line 2\u001b[0m\n\u001b[1;32m      1\u001b[0m fn\u001b[38;5;241m=\u001b[39m\u001b[38;5;124m\"\u001b[39m\u001b[38;5;124m50N_mean_norm\u001b[39m\u001b[38;5;124m\"\u001b[39m\n\u001b[0;32m----> 2\u001b[0m torch\u001b[38;5;241m.\u001b[39msave(\u001b[43mipc\u001b[49m,\u001b[38;5;124mf\u001b[39m\u001b[38;5;124m\"\u001b[39m\u001b[38;5;124m./experiments/ipcs/\u001b[39m\u001b[38;5;132;01m{\u001b[39;00mfn\u001b[38;5;132;01m}\u001b[39;00m\u001b[38;5;124m_ipc.pt\u001b[39m\u001b[38;5;124m\"\u001b[39m)\n\u001b[1;32m      3\u001b[0m torch\u001b[38;5;241m.\u001b[39msave(raw,\u001b[38;5;124mf\u001b[39m\u001b[38;5;124m\"\u001b[39m\u001b[38;5;124m./experiments/ipcs/\u001b[39m\u001b[38;5;132;01m{\u001b[39;00mfn\u001b[38;5;132;01m}\u001b[39;00m\u001b[38;5;124m_raw.pt\u001b[39m\u001b[38;5;124m\"\u001b[39m)\n\u001b[1;32m      4\u001b[0m torch\u001b[38;5;241m.\u001b[39msave(sur,\u001b[38;5;124mf\u001b[39m\u001b[38;5;124m\"\u001b[39m\u001b[38;5;124m./experiments/ipcs/\u001b[39m\u001b[38;5;132;01m{\u001b[39;00mfn\u001b[38;5;132;01m}\u001b[39;00m\u001b[38;5;124m_sur.pt\u001b[39m\u001b[38;5;124m\"\u001b[39m)\n",
      "\u001b[0;31mNameError\u001b[0m: name 'ipc' is not defined"
     ]
    }
   ],
   "source": [
    "fn=\"50N_mean_norm\"\n",
    "torch.save(ipc,f\"./experiments/ipcs/{fn}_ipc.pt\")\n",
    "torch.save(raw,f\"./experiments/ipcs/{fn}_raw.pt\")\n",
    "torch.save(sur,f\"./experiments/ipcs/{fn}_sur.pt\")\n"
   ]
  },
  {
   "cell_type": "code",
   "execution_count": 17,
   "id": "0db069c7-4bbb-4895-a886-6e399a260e91",
   "metadata": {},
   "outputs": [
    {
     "name": "stdout",
     "output_type": "stream",
     "text": [
      "load complete\n"
     ]
    },
    {
     "ename": "NameError",
     "evalue": "name 'ipc' is not defined",
     "output_type": "error",
     "traceback": [
      "\u001b[0;31m---------------------------------------------------------------------------\u001b[0m",
      "\u001b[0;31mNameError\u001b[0m                                 Traceback (most recent call last)",
      "Cell \u001b[0;32mIn[17], line 6\u001b[0m\n\u001b[1;32m      3\u001b[0m \u001b[38;5;28mprint\u001b[39m(\u001b[38;5;124m\"\u001b[39m\u001b[38;5;124mload complete\u001b[39m\u001b[38;5;124m\"\u001b[39m)\n\u001b[1;32m      5\u001b[0m maxdegree\u001b[38;5;241m=\u001b[39m\u001b[38;5;241m5\u001b[39m\n\u001b[0;32m----> 6\u001b[0m cap_by_degree \u001b[38;5;241m=\u001b[39m torch\u001b[38;5;241m.\u001b[39mtensor([ipc\u001b[38;5;241m.\u001b[39mipc_by_degree(deg) \u001b[38;5;28;01mfor\u001b[39;00m deg \u001b[38;5;129;01min\u001b[39;00m np\u001b[38;5;241m.\u001b[39marange(\u001b[38;5;241m1\u001b[39m,maxdegree\u001b[38;5;241m+\u001b[39m\u001b[38;5;241m1\u001b[39m)])\n\u001b[1;32m      7\u001b[0m totCapacity \u001b[38;5;241m=\u001b[39m torch\u001b[38;5;241m.\u001b[39msum(cap_by_degree)\n\u001b[1;32m      8\u001b[0m \u001b[38;5;28mprint\u001b[39m(\u001b[38;5;124m\"\u001b[39m\u001b[38;5;124mtotoal capacity:\u001b[39m\u001b[38;5;124m\"\u001b[39m,totCapacity)\n",
      "Cell \u001b[0;32mIn[17], line 6\u001b[0m, in \u001b[0;36m<listcomp>\u001b[0;34m(.0)\u001b[0m\n\u001b[1;32m      3\u001b[0m \u001b[38;5;28mprint\u001b[39m(\u001b[38;5;124m\"\u001b[39m\u001b[38;5;124mload complete\u001b[39m\u001b[38;5;124m\"\u001b[39m)\n\u001b[1;32m      5\u001b[0m maxdegree\u001b[38;5;241m=\u001b[39m\u001b[38;5;241m5\u001b[39m\n\u001b[0;32m----> 6\u001b[0m cap_by_degree \u001b[38;5;241m=\u001b[39m torch\u001b[38;5;241m.\u001b[39mtensor([\u001b[43mipc\u001b[49m\u001b[38;5;241m.\u001b[39mipc_by_degree(deg) \u001b[38;5;28;01mfor\u001b[39;00m deg \u001b[38;5;129;01min\u001b[39;00m np\u001b[38;5;241m.\u001b[39marange(\u001b[38;5;241m1\u001b[39m,maxdegree\u001b[38;5;241m+\u001b[39m\u001b[38;5;241m1\u001b[39m)])\n\u001b[1;32m      7\u001b[0m totCapacity \u001b[38;5;241m=\u001b[39m torch\u001b[38;5;241m.\u001b[39msum(cap_by_degree)\n\u001b[1;32m      8\u001b[0m \u001b[38;5;28mprint\u001b[39m(\u001b[38;5;124m\"\u001b[39m\u001b[38;5;124mtotoal capacity:\u001b[39m\u001b[38;5;124m\"\u001b[39m,totCapacity)\n",
      "\u001b[0;31mNameError\u001b[0m: name 'ipc' is not defined"
     ]
    }
   ],
   "source": [
    "#mfs = torch.load(f\"./experiments/mfs/{fn}_mf.pt\")\n",
    "#ipc = torch.load(f\"./experiments/ipcs/{fn}_ipc.pt\")\n",
    "print(\"load complete\")\n",
    "\n",
    "maxdegree=5\n",
    "cap_by_degree = torch.tensor([ipc.ipc_by_degree(deg) for deg in np.arange(1,maxdegree+1)])\n",
    "totCapacity = torch.sum(cap_by_degree)\n",
    "print(\"totoal capacity:\",totCapacity)\n",
    "for deg in np.arange(1,maxdegree+1):\n",
    "    print(f\"{deg} order ipc:\",float(cap_by_degree[deg-1]))"
   ]
  },
  {
   "cell_type": "code",
   "execution_count": 18,
   "id": "36028380-f19d-464d-83b3-78fcce26a1cb",
   "metadata": {},
   "outputs": [
    {
     "ename": "NameError",
     "evalue": "name 'ti' is not defined",
     "output_type": "error",
     "traceback": [
      "\u001b[0;31m---------------------------------------------------------------------------\u001b[0m",
      "\u001b[0;31mNameError\u001b[0m                                 Traceback (most recent call last)",
      "Cell \u001b[0;32mIn[18], line 5\u001b[0m\n\u001b[1;32m      1\u001b[0m \u001b[38;5;66;03m#raw = torch.load(f\"./experiments/ipcs/{fn}_raw.pt\")\u001b[39;00m\n\u001b[1;32m      2\u001b[0m \u001b[38;5;66;03m#sur = torch.load(f\"./experiments/ipcs/{fn}_sur.pt\")\u001b[39;00m\n\u001b[0;32m----> 5\u001b[0m tar_mean \u001b[38;5;241m=\u001b[39m torch\u001b[38;5;241m.\u001b[39mmean(\u001b[43mti\u001b[49m\u001b[38;5;241m.\u001b[39mtar_f,dim\u001b[38;5;241m=\u001b[39m\u001b[38;5;241m1\u001b[39m)\u001b[38;5;241m.\u001b[39mcpu()\u001b[38;5;241m.\u001b[39mnumpy()\n\u001b[1;32m      6\u001b[0m \u001b[38;5;28mprint\u001b[39m(\u001b[38;5;28mlen\u001b[39m(tar_mean))\n\u001b[1;32m      7\u001b[0m capacities\u001b[38;5;241m=\u001b[39mipc\u001b[38;5;241m.\u001b[39mval\n",
      "\u001b[0;31mNameError\u001b[0m: name 'ti' is not defined"
     ]
    }
   ],
   "source": [
    "\n",
    "#raw = torch.load(f\"./experiments/ipcs/{fn}_raw.pt\")\n",
    "#sur = torch.load(f\"./experiments/ipcs/{fn}_sur.pt\")\n",
    "\n",
    "\n",
    "tar_mean = torch.mean(ti.tar_f,dim=1).cpu().numpy()\n",
    "print(len(tar_mean))\n",
    "capacities=ipc.val"
   ]
  },
  {
   "cell_type": "code",
   "execution_count": 19,
   "id": "6b993e76-a4eb-411d-9c45-963a3d0d4a0c",
   "metadata": {},
   "outputs": [
    {
     "ename": "NameError",
     "evalue": "name 'raw_wo_norm' is not defined",
     "output_type": "error",
     "traceback": [
      "\u001b[0;31m---------------------------------------------------------------------------\u001b[0m",
      "\u001b[0;31mNameError\u001b[0m                                 Traceback (most recent call last)",
      "Cell \u001b[0;32mIn[19], line 1\u001b[0m\n\u001b[0;32m----> 1\u001b[0m \u001b[38;5;28mprint\u001b[39m(\u001b[38;5;124m\"\u001b[39m\u001b[38;5;124mraw w/o norm:\u001b[39m\u001b[38;5;124m\"\u001b[39m,\u001b[38;5;28mfloat\u001b[39m(torch\u001b[38;5;241m.\u001b[39msum(\u001b[43mraw_wo_norm\u001b[49m)))\n\u001b[1;32m      2\u001b[0m \u001b[38;5;28mprint\u001b[39m(\u001b[38;5;124m\"\u001b[39m\u001b[38;5;124mraw w norm:\u001b[39m\u001b[38;5;124m\"\u001b[39m,\u001b[38;5;28mfloat\u001b[39m(torch\u001b[38;5;241m.\u001b[39msum(raw)))\n",
      "\u001b[0;31mNameError\u001b[0m: name 'raw_wo_norm' is not defined"
     ]
    }
   ],
   "source": [
    "print(\"raw w/o norm:\",float(torch.sum(raw_wo_norm)))\n",
    "print(\"raw w norm:\",float(torch.sum(raw)))\n"
   ]
  },
  {
   "cell_type": "code",
   "execution_count": 20,
   "id": "5ab56697-528a-462f-88a0-6f66120d5895",
   "metadata": {},
   "outputs": [
    {
     "ename": "NameError",
     "evalue": "name 'raw' is not defined",
     "output_type": "error",
     "traceback": [
      "\u001b[0;31m---------------------------------------------------------------------------\u001b[0m",
      "\u001b[0;31mNameError\u001b[0m                                 Traceback (most recent call last)",
      "Cell \u001b[0;32mIn[20], line 5\u001b[0m\n\u001b[1;32m      3\u001b[0m end \u001b[38;5;241m=\u001b[39m \u001b[38;5;241m-\u001b[39m\u001b[38;5;241m1\u001b[39m\n\u001b[1;32m      4\u001b[0m \u001b[38;5;241m10300\u001b[39m\n\u001b[0;32m----> 5\u001b[0m x\u001b[38;5;241m=\u001b[39mnp\u001b[38;5;241m.\u001b[39marange(\u001b[38;5;28mlen\u001b[39m(\u001b[43mraw\u001b[49m))\n\u001b[1;32m      6\u001b[0m alp\u001b[38;5;241m=\u001b[39m\u001b[38;5;241m0.3\u001b[39m\n\u001b[1;32m      8\u001b[0m raw_wo_norm\u001b[38;5;241m=\u001b[39mtorch\u001b[38;5;241m.\u001b[39mload(\u001b[38;5;124mf\u001b[39m\u001b[38;5;124m\"\u001b[39m\u001b[38;5;124m./experiments/ipcs/50N_tanh_10K_raw.pt\u001b[39m\u001b[38;5;124m\"\u001b[39m)\n",
      "\u001b[0;31mNameError\u001b[0m: name 'raw' is not defined"
     ]
    },
    {
     "data": {
      "image/png": "[encoded data removed]",
      "text/plain": [
       "<Figure size 1200x800 with 1 Axes>"
      ]
     },
     "metadata": {},
     "output_type": "display_data"
    }
   ],
   "source": [
    "fig,ax = plt.subplots(figsize=(12,8))\n",
    "stt = 0\n",
    "end = -1\n",
    "10300\n",
    "x=np.arange(len(raw))\n",
    "alp=0.3\n",
    "\n",
    "raw_wo_norm=torch.load(f\"./experiments/ipcs/50N_tanh_10K_raw.pt\")\n",
    "\n",
    "y = raw_wo_norm[stt:end].cpu().numpy()\n",
    "plt.plot(x[stt:end],y,\"b-\",alpha=alp,label=\"raw w/o norm\")\n",
    "plt.axhline(np.mean(y),0,40000,c=\"b\")\n",
    "\n",
    "\n",
    "y = raw[stt:end].cpu().numpy()\n",
    "plt.plot(x[stt:end],y,\"r-\",alpha=alp,label=\"raw\")\n",
    "plt.axhline(np.mean(y),0,40000,c=\"r\")\n",
    "\n",
    "\"\"\"\n",
    "plt.axhline(np.mean(0.01),0,40000,c=\"b\")\n",
    "\n",
    "\n",
    "y = sur[stt:end].cpu().numpy()\n",
    "plt.plot(x[stt:end],y,\"b-\",alpha=alp,label=\"sur\",)\n",
    "plt.axhline(np.mean(y),0,40000,c=\"b\")\n",
    "\n",
    "\n",
    "\n",
    "y = tar_mean[stt:end]\n",
    "plt.plot(x[stt:end],y,\"c-\",alpha=alp,label=\"target mean\")\n",
    "plt.axhline(np.mean(y),0,40000,c=\"c\")\n",
    "\n",
    "y = capacities[stt:end].cpu().numpy()\n",
    "plt.plot(x[stt:end],y,\"g-\",alpha=alp,label=\"cap\")\n",
    "plt.axhline(np.mean(y),0,40000,c=\"g\")\n",
    "\n",
    "\n",
    "\n",
    "\"\"\"\n",
    "\n",
    "\n",
    "plt.ylim(-0.001,0.01)\n",
    "plt.grid(True)\n",
    "plt.legend()"
   ]
  },
  {
   "cell_type": "code",
   "execution_count": null,
   "id": "a5148f9b-5516-4445-84fb-60a1e6eceb54",
   "metadata": {},
   "outputs": [],
   "source": [
    "fig,ax = plt.subplots(figsize=(12,8))\n",
    "stt = 0\n",
    "end = -1\n",
    "10300\n",
    "x=np.arange(len(raw))\n",
    "alp=0.3\n",
    "\n",
    "y = sur[stt:end].cpu().numpy()\n",
    "plt.plot(x[stt:end],y,\"b-\",alpha=alp,label=\"sur norm\",)\n",
    "plt.axhline(np.mean(y),0,40000,c=\"b\")\n",
    "\n",
    "\n",
    "y = sur_wo_norm[stt:end].cpu().numpy()\n",
    "#plt.plot(x[stt:end],y,\"g-\",alpha=alp,label=\"sur w/o norm\")\n",
    "#plt.axhline(np.mean(y),0,40000,c=\"g\")\n",
    "\n",
    "\n",
    "y = tar_mean[stt:end]*0.05\n",
    "plt.plot(x[stt:end],y,\"c-\",alpha=alp,label=\"target mean(*0.05)\")\n",
    "plt.axhline(np.mean(y)*20,0,40000,c=\"c\")\n",
    "\n",
    "\n",
    "#plt.ylim(-0.001,0.01)\n",
    "plt.grid(True)\n",
    "plt.legend()"
   ]
  },
  {
   "cell_type": "code",
   "execution_count": null,
   "id": "fd5af42a-74f9-4c59-970c-2a36c20e3ce4",
   "metadata": {},
   "outputs": [],
   "source": []
  },
  {
   "cell_type": "code",
   "execution_count": null,
   "id": "a16a62a5-741c-4b76-bced-346a1e2be9a5",
   "metadata": {},
   "outputs": [],
   "source": []
  }
 ],
 "metadata": {
  "kernelspec": {
   "display_name": "Python 3 (ipykernel)",
   "language": "python",
   "name": "python3"
  },
  "language_info": {
   "codemirror_mode": {
    "name": "ipython",
    "version": 3
   },
   "file_extension": ".py",
   "mimetype": "text/x-python",
   "name": "python",
   "nbconvert_exporter": "python",
   "pygments_lexer": "ipython3",
   "version": "3.10.9"
  }
 },
 "nbformat": 4,
 "nbformat_minor": 5
}
