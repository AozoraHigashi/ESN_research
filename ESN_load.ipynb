{
 "cells": [
  {
   "cell_type": "code",
   "execution_count": 1,
   "id": "dc7489a9-c6a6-4dac-b4e3-d7893ccdc0f3",
   "metadata": {},
   "outputs": [],
   "source": [
    "import torch\n",
    "import matplotlib.pyplot as plt\n",
    "import ESN\n",
    "import time\n",
    "import numpy as np\n",
    "import json"
   ]
  },
  {
   "cell_type": "code",
   "execution_count": 2,
   "id": "3afd85e7-231a-4df6-b0d8-d514bf08a516",
   "metadata": {},
   "outputs": [],
   "source": [
    "torch.set_default_device(\"cuda:0\")\n",
    "torch.set_default_dtype(torch.double)"
   ]
  },
  {
   "cell_type": "code",
   "execution_count": 6,
   "id": "c21b77c4-166a-446f-99ff-50ce838d973b",
   "metadata": {},
   "outputs": [],
   "source": [
    "#\n",
    "fn=\"100N_2din_tanh\"\n",
    "fn=\"50N_tanh_10K\"\n",
    "fn=\"10N_3din\"\n"
   ]
  },
  {
   "cell_type": "code",
   "execution_count": 4,
   "id": "88ef951b-0391-44f8-80c5-0e2b826ef046",
   "metadata": {},
   "outputs": [
    {
     "name": "stdin",
     "output_type": "stream",
     "text": [
      "set file name :  a\n"
     ]
    }
   ],
   "source": [
    "fn = input(\"set file name : \")"
   ]
  },
  {
   "cell_type": "code",
   "execution_count": 7,
   "id": "f09c7477-756a-41ee-96f2-efb91d775a50",
   "metadata": {},
   "outputs": [
    {
     "name": "stderr",
     "output_type": "stream",
     "text": [
      "/tmp/ipykernel_154944/2588271863.py:5: FutureWarning: You are using `torch.load` with `weights_only=False` (the current default value), which uses the default pickle module implicitly. It is possible to construct malicious pickle data which will execute arbitrary code during unpickling (See https://github.com/pytorch/pytorch/blob/main/SECURITY.md#untrusted-models for more details). In a future release, the default value for `weights_only` will be flipped to `True`. This limits the functions that could be executed during unpickling. Arbitrary objects will no longer be allowed to be loaded via this mode unless they are explicitly allowlisted by the user via `torch.serialization.add_safe_globals`. We recommend you start setting `weights_only=True` for any use case where you don't have full control of the loaded file. Please open an issue on GitHub for any issues related to this experimental feature.\n",
      "  u_sym = torch.load('./experiments/inputs/'+fn+'_i.pt')\n",
      "/tmp/ipykernel_154944/2588271863.py:6: FutureWarning: You are using `torch.load` with `weights_only=False` (the current default value), which uses the default pickle module implicitly. It is possible to construct malicious pickle data which will execute arbitrary code during unpickling (See https://github.com/pytorch/pytorch/blob/main/SECURITY.md#untrusted-models for more details). In a future release, the default value for `weights_only` will be flipped to `True`. This limits the functions that could be executed during unpickling. Arbitrary objects will no longer be allowed to be loaded via this mode unless they are explicitly allowlisted by the user via `torch.serialization.add_safe_globals`. We recommend you start setting `weights_only=True` for any use case where you don't have full control of the loaded file. Please open an issue on GitHub for any issues related to this experimental feature.\n",
      "  Xwo = torch.load('./experiments/datamatrices/'+fn+'_d.pt')\n"
     ]
    }
   ],
   "source": [
    "## load data\n",
    "with open('./experiments/settings/'+fn+'_s.txt', 'r') as fp:\n",
    "    setting = json.load(fp)\n",
    "\n",
    "u_sym = torch.load('./experiments/inputs/'+fn+'_i.pt')\n",
    "Xwo = torch.load('./experiments/datamatrices/'+fn+'_d.pt')\n",
    "\n",
    "Two = setting[\"Two\"]"
   ]
  },
  {
   "cell_type": "code",
   "execution_count": null,
   "id": "e36bbb93-685a-4931-a5b9-45c10ba797b1",
   "metadata": {},
   "outputs": [],
   "source": [
    "## calculate memory capacity\n",
    "\n",
    "N = setting[\"Nodes\"]\n",
    "dim = setting[\"input dim\"]\n",
    "if setting[\"identical Win\"]:\n",
    "    maxtau = int(N*2) \n",
    "else : maxtau =  int(N/dim *2) \n",
    "\n",
    "\"\"\" tweak maxtau here \"\"\"\n",
    "##maxtau=int(N*10)\n",
    "##\n",
    "\n",
    "st = time.time()\n",
    "#mfs = ESN.MC_cSVD_old(u_sym, Xwo, maxtau)\n",
    "#mfs = ESN.MC_cSVD(u_sym, Xwo, maxtau)\n",
    "mfs_raw, mfs_lin, mfs_rev, sur_value = ESN.MC_cSVD(u_sym, Xwo, maxtau,ret_all=True)\n",
    "mfs = mfs_rev\n",
    "\n",
    "print(r\"mc calc time :%.3f s\"%(time.time()-st))\n",
    "print(\"total MC :\",float(torch.sum(mfs)))\n",
    "print(float(sur_value))\n",
    "\n",
    "\n",
    "#torch.save(mfs,f\"./experiments/mfs/{fn}_mf.pt\")\n",
    "#torch.save(mfs_raw,f\"./experiments/mfs/{fn}_raw.pt\")\n",
    "#torch.save(sur_value,f\"./experiments/mfs/{fn}_sur.pt\")\n"
   ]
  },
  {
   "cell_type": "code",
   "execution_count": null,
   "id": "550ce726-0070-4184-9531-cd315773420f",
   "metadata": {},
   "outputs": [],
   "source": [
    "\"\"\"  TEMPORARY CELL  \"\"\"\n",
    "\n",
    "## set max delay, degree\n",
    "maxdd=[[1,150],[2,10],[3,20],[4,10],[5,10]]\n",
    "\n",
    "st = time.time()\n",
    "target_info = ESN.make_targets(u_sym,maxdd,Two=Two)\n",
    "print(r\"target create time:%.3f s\"%(time.time()-st))\n",
    "#torch.save(target_info,f\"./experiments/target_info/{fn}_3rd_ti.pt\")\n",
    "\n",
    "#st = time.time()\n",
    "#ti = torch.load('./experiments/target_info/'+fn+'_7th_ti.pt')\n",
    "#print(\"load time:\",time.time()-st)"
   ]
  },
  {
   "cell_type": "code",
   "execution_count": null,
   "id": "c01321c8-fc11-49d7-956e-351b8af7a58d",
   "metadata": {},
   "outputs": [],
   "source": [
    "torch.save(target_info,f\"./experiments/target_info/{fn}_ti.pt\")\n",
    "torch.save(ipc,f\"./experiments/ipcs/{fn}_ipc.pt\")"
   ]
  },
  {
   "cell_type": "code",
   "execution_count": null,
   "id": "5f8e7763-0dfb-465c-9a47-4c713140d3f5",
   "metadata": {},
   "outputs": [],
   "source": [
    "\"\"\"  TEMPORARY CELL  \"\"\"\n",
    "#ti = ti.slice(0,4000)\n",
    "ti=target_info\n",
    "st = time.time()\n",
    "raw,lin,rev,sur = ESN.calc_capacity(Xwo,ti.tar_f,ret_all=True)\n",
    "print(r\"ipc calc time :%.3f s\"%(time.time()-st))\n",
    "capacities = rev\n",
    "\n",
    "ipc=ESN.IPC(capacities,ti.delay,ti.degree,ti.in_dim,ti.maxddset)\n",
    "#torch.save(ipc,f\"./experiments/ipcs/{fn}_7th_ipc.pt\")\n",
    "#torch.save(ipc,f\"./experiments/ipcs/{fn}_3rd_ipc.pt\")\n"
   ]
  },
  {
   "cell_type": "code",
   "execution_count": null,
   "id": "0b71992f-e505-4701-be15-e1e36e775e3e",
   "metadata": {},
   "outputs": [],
   "source": [
    "## calculate ipc\n",
    "\n",
    "## create target functions\n",
    "\n",
    "## set max delay, degree\n",
    "maxdd=[[  1, 100],\n",
    " [  2,  10],\n",
    " [  3,  30],\n",
    " [  4,  10],\n",
    " [  5,  10],\n",
    " [  6,   5],\n",
    " [  7,   5]]\n",
    "\n",
    "st = time.time()\n",
    "target_info = ESN.make_targets(u_sym,maxdd,Two=Two)\n",
    "print(r\"target create time:%.3f s\"%(time.time()-st))\n",
    "torch.save(target_info,f\"./experiments/target_info/{fn}_ti.pt\")\n",
    "\n"
   ]
  },
  {
   "cell_type": "code",
   "execution_count": null,
   "id": "312816ee-029c-4503-949f-ee5b7b8d7ca9",
   "metadata": {},
   "outputs": [],
   "source": [
    "ti=target_info"
   ]
  },
  {
   "cell_type": "code",
   "execution_count": 8,
   "id": "6b69c7df-65ef-41ec-83cf-ff9152bdf636",
   "metadata": {},
   "outputs": [
    {
     "name": "stderr",
     "output_type": "stream",
     "text": [
      "/tmp/ipykernel_154944/1812488587.py:4: FutureWarning: You are using `torch.load` with `weights_only=False` (the current default value), which uses the default pickle module implicitly. It is possible to construct malicious pickle data which will execute arbitrary code during unpickling (See https://github.com/pytorch/pytorch/blob/main/SECURITY.md#untrusted-models for more details). In a future release, the default value for `weights_only` will be flipped to `True`. This limits the functions that could be executed during unpickling. Arbitrary objects will no longer be allowed to be loaded via this mode unless they are explicitly allowlisted by the user via `torch.serialization.add_safe_globals`. We recommend you start setting `weights_only=True` for any use case where you don't have full control of the loaded file. Please open an issue on GitHub for any issues related to this experimental feature.\n",
      "  ti = torch.load('./experiments/target_info/'+fn+'_ti.pt')\n"
     ]
    },
    {
     "name": "stdout",
     "output_type": "stream",
     "text": [
      "target load time :72.464 s\n",
      "[[ 1 20]\n",
      " [ 2 10]\n",
      " [ 3 10]\n",
      " [ 4  4]\n",
      " [ 5  3]\n",
      " [ 6  2]\n",
      " [ 7  2]]\n",
      "ipc calc time :1.749 s\n"
     ]
    }
   ],
   "source": [
    "## calculate capacities\n",
    "\n",
    "st = time.time()\n",
    "ti = torch.load('./experiments/target_info/'+fn+'_ti.pt')\n",
    "print(r\"target load time :%.3f s\"%(time.time()-st))\n",
    "print(ti.maxddset)\n",
    "\n",
    "st = time.time()\n",
    "#raw,lin,thr,rev,sur = ESN.calc_capacity(Xwo,ti.tar_f,ret_all=True,thr_scale=2,forced_sur=0.01)\n",
    "raw,lin,thr,rev,sur = ESN.calc_capacity(Xwo,ti.tar_f,ret_all=True,thr_scale=1.2,mean_normalization=True)\n",
    "print(r\"ipc calc time :%.3f s\"%(time.time()-st))\n",
    "capacities = thr\n",
    "\n",
    "\n",
    "\n",
    "ipc = ESN.IPC_w_targetinfo(capacities,ti)\n",
    "#ipc=ESN.IPC(capacities,ti.maxdelay,ti.degree,ti.maxddset,ti.in_dim)\n",
    "\n",
    "\n",
    "#torch.save(ipc,f\"./experiments/ipcs/{fn}_ipc.pt\")\n",
    "#torch.save(capacities,f\"./experiments/ipcs/{fn}_c.pt\")\n"
   ]
  },
  {
   "cell_type": "code",
   "execution_count": null,
   "id": "97f5762f-eb72-440b-ac23-05293b4196ab",
   "metadata": {},
   "outputs": [],
   "source": [
    "import sys\n",
    "print(sys.getsizeof(ti.tar_f))\n",
    "print(ti.tar_f.shape[1])\n",
    "print(80*9391*100000)"
   ]
  },
  {
   "cell_type": "code",
   "execution_count": 10,
   "id": "f9260567-62b5-4937-970c-c246e739c109",
   "metadata": {},
   "outputs": [],
   "source": [
    "torch.save(ipc,f\"./experiments/ipcs/{fn}_ipc.pt\")\n",
    "torch.save(raw,f\"./experiments/ipcs/{fn}_raw.pt\")\n",
    "torch.save(sur,f\"./experiments/ipcs/{fn}_sur.pt\")\n"
   ]
  },
  {
   "cell_type": "code",
   "execution_count": 11,
   "id": "0db069c7-4bbb-4895-a886-6e399a260e91",
   "metadata": {},
   "outputs": [
    {
     "name": "stdout",
     "output_type": "stream",
     "text": [
      "load complete\n",
      "totoal capacity: 9.851428285354455\n",
      "1 order ipc: 9.267869895454446\n",
      "2 order ipc: 0.0\n",
      "3 order ipc: 0.5835583899000092\n",
      "4 order ipc: 0.0\n",
      "5 order ipc: 0.0\n"
     ]
    }
   ],
   "source": [
    "\"\"\"\" LOAD OR NOT \"\"\"\n",
    "if False:\n",
    "    mfs = torch.load(f\"./experiments/mfs/{fn}_mf.pt\")\n",
    "    ipc = torch.load(f\"./experiments/ipcs/{fn}_ipc.pt\")\n",
    "    print(\"load complete\")\n",
    "\n",
    "\n",
    "maxdegree=5\n",
    "cap_by_degree = torch.tensor([ipc.ipc_by_degree(deg) for deg in np.arange(1,maxdegree+1)])\n",
    "totCapacity = torch.sum(cap_by_degree)\n",
    "print(\"totoal capacity:\",totCapacity.cpu().numpy())\n",
    "for deg in np.arange(1,maxdegree+1):\n",
    "    print(f\"{deg} order ipc:\",float(cap_by_degree[deg-1]))"
   ]
  },
  {
   "cell_type": "code",
   "execution_count": null,
   "id": "36028380-f19d-464d-83b3-78fcce26a1cb",
   "metadata": {},
   "outputs": [],
   "source": [
    "\n",
    "#raw = torch.load(f\"./experiments/ipcs/{fn}_raw.pt\")\n",
    "#sur = torch.load(f\"./experiments/ipcs/{fn}_sur.pt\")\n",
    "\n",
    "\n",
    "tar_mean = torch.mean(ti.tar_f,dim=1).cpu().numpy()\n",
    "print(len(tar_mean))\n",
    "capacities=ipc.val"
   ]
  },
  {
   "cell_type": "code",
   "execution_count": null,
   "id": "6b993e76-a4eb-411d-9c45-963a3d0d4a0c",
   "metadata": {},
   "outputs": [],
   "source": [
    "print(\"raw w/o norm:\",float(torch.sum(raw_wo_norm)))\n",
    "print(\"raw w norm:\",float(torch.sum(raw)))\n"
   ]
  },
  {
   "cell_type": "code",
   "execution_count": null,
   "id": "5ab56697-528a-462f-88a0-6f66120d5895",
   "metadata": {},
   "outputs": [],
   "source": [
    "fig,ax = plt.subplots(figsize=(12,8))\n",
    "stt = 0\n",
    "end = -1\n",
    "10300\n",
    "x=np.arange(len(raw))\n",
    "alp=0.3\n",
    "\n",
    "raw_wo_norm=torch.load(f\"./experiments/ipcs/50N_tanh_10K_raw.pt\")\n",
    "\n",
    "y = raw_wo_norm[stt:end].cpu().numpy()\n",
    "plt.plot(x[stt:end],y,\"b-\",alpha=alp,label=\"raw w/o norm\")\n",
    "plt.axhline(np.mean(y),0,40000,c=\"b\")\n",
    "\n",
    "\n",
    "y = raw[stt:end].cpu().numpy()\n",
    "plt.plot(x[stt:end],y,\"r-\",alpha=alp,label=\"raw\")\n",
    "plt.axhline(np.mean(y),0,40000,c=\"r\")\n",
    "\n",
    "\"\"\"\n",
    "plt.axhline(np.mean(0.01),0,40000,c=\"b\")\n",
    "\n",
    "\n",
    "y = sur[stt:end].cpu().numpy()\n",
    "plt.plot(x[stt:end],y,\"b-\",alpha=alp,label=\"sur\",)\n",
    "plt.axhline(np.mean(y),0,40000,c=\"b\")\n",
    "\n",
    "\n",
    "\n",
    "y = tar_mean[stt:end]\n",
    "plt.plot(x[stt:end],y,\"c-\",alpha=alp,label=\"target mean\")\n",
    "plt.axhline(np.mean(y),0,40000,c=\"c\")\n",
    "\n",
    "y = capacities[stt:end].cpu().numpy()\n",
    "plt.plot(x[stt:end],y,\"g-\",alpha=alp,label=\"cap\")\n",
    "plt.axhline(np.mean(y),0,40000,c=\"g\")\n",
    "\n",
    "\n",
    "\n",
    "\"\"\"\n",
    "\n",
    "\n",
    "plt.ylim(-0.001,0.01)\n",
    "plt.grid(True)\n",
    "plt.legend()"
   ]
  },
  {
   "cell_type": "code",
   "execution_count": null,
   "id": "a5148f9b-5516-4445-84fb-60a1e6eceb54",
   "metadata": {},
   "outputs": [],
   "source": [
    "fig,ax = plt.subplots(figsize=(12,8))\n",
    "stt = 0\n",
    "end = -1\n",
    "10300\n",
    "x=np.arange(len(raw))\n",
    "alp=0.3\n",
    "\n",
    "y = sur[stt:end].cpu().numpy()\n",
    "plt.plot(x[stt:end],y,\"b-\",alpha=alp,label=\"sur norm\",)\n",
    "plt.axhline(np.mean(y),0,40000,c=\"b\")\n",
    "\n",
    "\n",
    "y = sur_wo_norm[stt:end].cpu().numpy()\n",
    "#plt.plot(x[stt:end],y,\"g-\",alpha=alp,label=\"sur w/o norm\")\n",
    "#plt.axhline(np.mean(y),0,40000,c=\"g\")\n",
    "\n",
    "\n",
    "y = tar_mean[stt:end]*0.05\n",
    "plt.plot(x[stt:end],y,\"c-\",alpha=alp,label=\"target mean(*0.05)\")\n",
    "plt.axhline(np.mean(y)*20,0,40000,c=\"c\")\n",
    "\n",
    "\n",
    "#plt.ylim(-0.001,0.01)\n",
    "plt.grid(True)\n",
    "plt.legend()"
   ]
  },
  {
   "cell_type": "code",
   "execution_count": null,
   "id": "fd5af42a-74f9-4c59-970c-2a36c20e3ce4",
   "metadata": {},
   "outputs": [],
   "source": []
  },
  {
   "cell_type": "code",
   "execution_count": null,
   "id": "a16a62a5-741c-4b76-bced-346a1e2be9a5",
   "metadata": {},
   "outputs": [],
   "source": []
  }
 ],
 "metadata": {
  "kernelspec": {
   "display_name": "Python 3 (ipykernel)",
   "language": "python",
   "name": "python3"
  },
  "language_info": {
   "codemirror_mode": {
    "name": "ipython",
    "version": 3
   },
   "file_extension": ".py",
   "mimetype": "text/x-python",
   "name": "python",
   "nbconvert_exporter": "python",
   "pygments_lexer": "ipython3",
   "version": "3.10.9"
  }
 },
 "nbformat": 4,
 "nbformat_minor": 5
}
