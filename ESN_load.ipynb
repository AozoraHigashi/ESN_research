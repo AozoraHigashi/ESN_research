{
 "cells": [
  {
   "cell_type": "code",
   "execution_count": 1,
   "id": "dc7489a9-c6a6-4dac-b4e3-d7893ccdc0f3",
   "metadata": {},
   "outputs": [],
   "source": [
    "import torch\n",
    "import matplotlib.pyplot as plt\n",
    "import ESN\n",
    "import time\n",
    "import numpy as np\n",
    "import json"
   ]
  },
  {
   "cell_type": "code",
   "execution_count": 2,
   "id": "3afd85e7-231a-4df6-b0d8-d514bf08a516",
   "metadata": {},
   "outputs": [],
   "source": [
    "torch.set_default_device(\"cuda:0\")\n",
    "torch.set_default_dtype(torch.double)"
   ]
  },
  {
   "cell_type": "code",
   "execution_count": 3,
   "id": "88ef951b-0391-44f8-80c5-0e2b826ef046",
   "metadata": {},
   "outputs": [
    {
     "name": "stdin",
     "output_type": "stream",
     "text": [
      "set file name :  a\n"
     ]
    }
   ],
   "source": [
    "fn = input(\"set file name : \")"
   ]
  },
  {
   "cell_type": "code",
   "execution_count": 13,
   "id": "e36bbb93-685a-4931-a5b9-45c10ba797b1",
   "metadata": {},
   "outputs": [
    {
     "name": "stdout",
     "output_type": "stream",
     "text": [
      "mc calc time : 0.04304385185241699\n",
      "total MC : 23.358996903637674\n",
      "0.005013125079519831\n"
     ]
    }
   ],
   "source": [
    "## calculate memory capacity\n",
    "\n",
    "with open('./experiments/settings/'+fn+'_s.txt', 'r') as fp:\n",
    "    setting = json.load(fp)\n",
    "\n",
    "u = torch.load('./experiments/inputs/'+fn+'_i.pt')\n",
    "Xwo = torch.load('./experiments/datamatrices/'+fn+'_d.pt')\n",
    "\n",
    "N = setting[\"Nodes\"]\n",
    "dim = setting[\"input dim\"]\n",
    "if setting[\"identical Win\"]:\n",
    "    maxtau = int(N*2) \n",
    "else : maxtau =  int(N/dim *2) \n",
    "\n",
    "\"\"\" tweak maxtau here \"\"\"\n",
    "##maxtau=int(N*10)\n",
    "##\n",
    "\n",
    "st = time.time()\n",
    "#mfs = ESN.MC_cSVD_old(u_sym, Xwo, maxtau)\n",
    "#mfs = ESN.MC_cSVD(u_sym, Xwo, maxtau)\n",
    "mfs_raw, mfs_lin, mfs_rev, sur_value = ESN.MC_cSVD(u_sym, Xwo, maxtau,ret_all=True)\n",
    "mfs = mfs_rev\n",
    "\n",
    "print(r\"mc calc time :%.3f s\"%(time.time()-st))\n",
    "print(\"total MC :\",float(torch.sum(mfs)))\n",
    "print(float(sur_value))\n",
    "\n",
    "\n",
    "#torch.save(mfs,f\"./experiments/mfs/{fn}_mf.pt\")\n",
    "#torch.save(mfs_raw,f\"./experiments/mfs/{fn}_raw.pt\")\n",
    "#torch.save(sur_value,f\"./experiments/mfs/{fn}_sur.pt\")\n"
   ]
  },
  {
   "cell_type": "code",
   "execution_count": 3,
   "id": "c21b77c4-166a-446f-99ff-50ce838d973b",
   "metadata": {},
   "outputs": [],
   "source": [
    "#\n",
    "fn=\"50N_tanh_10000T\""
   ]
  },
  {
   "cell_type": "code",
   "execution_count": 4,
   "id": "8c392f6d-4ece-44e7-8dae-5664cd060bf5",
   "metadata": {},
   "outputs": [],
   "source": [
    "## load data\n",
    "with open('./experiments/settings/'+fn+'_s.txt', 'r') as fp:\n",
    "    setting = json.load(fp)\n",
    "u_sym = torch.load('./experiments/inputs/'+fn+'_i.pt')\n",
    "Xwo = torch.load('./experiments/datamatrices/'+fn+'_d.pt')\n",
    "\n",
    "Two = setting[\"Two\"]\n"
   ]
  },
  {
   "cell_type": "code",
   "execution_count": 6,
   "id": "550ce726-0070-4184-9531-cd315773420f",
   "metadata": {},
   "outputs": [
    {
     "name": "stdout",
     "output_type": "stream",
     "text": [
      "basis table creation:0.002 s\n",
      "[tensor([[-0.3361, -0.8083, -0.9399,  ..., -0.2002, -0.0868, -0.6585],\n",
      "        [ 0.8918, -0.3361, -0.8083,  ..., -0.3137, -0.2002, -0.0868],\n",
      "        [ 0.8221,  0.8918, -0.3361,  ..., -0.1119, -0.3137, -0.2002],\n",
      "        ...,\n",
      "        [ 0.7825, -0.2839,  0.5726,  ..., -0.5989,  0.8230,  0.4655],\n",
      "        [-0.1091,  0.7825, -0.2839,  ..., -0.2057, -0.5989,  0.8230],\n",
      "        [ 0.7708, -0.1091,  0.7825,  ...,  0.4180, -0.2057, -0.5989]],\n",
      "       device='cuda:0'), tensor([[-0.3306,  0.4801,  0.8250,  ..., -0.4399, -0.4887,  0.1504],\n",
      "        [ 0.6931, -0.3306,  0.4801,  ..., -0.3524, -0.4399, -0.4887],\n",
      "        [ 0.5139,  0.6931, -0.3306,  ..., -0.4812, -0.3524, -0.4399],\n",
      "        ...,\n",
      "        [ 0.4184, -0.3791, -0.0081,  ...,  0.0381,  0.5160, -0.1749],\n",
      "        [-0.4821,  0.4184, -0.3791,  ..., -0.4365,  0.0381,  0.5160],\n",
      "        [ 0.3911, -0.4821,  0.4184,  ..., -0.2379, -0.4365,  0.0381]],\n",
      "       device='cuda:0'), tensor([[ 0.4092, -0.1079, -0.6658,  ...,  0.2803,  0.1286,  0.2739],\n",
      "        [ 0.4356,  0.4092, -0.1079,  ...,  0.3933,  0.2803,  0.1286],\n",
      "        [ 0.1560,  0.4356,  0.4092,  ...,  0.1643,  0.3933,  0.2803],\n",
      "        ...,\n",
      "        [ 0.0239,  0.3686, -0.3895,  ...,  0.3613,  0.1591, -0.4461],\n",
      "        [ 0.1604,  0.0239,  0.3686,  ...,  0.2868,  0.3613,  0.1591],\n",
      "        [-0.0114,  0.1604,  0.0239,  ..., -0.4444,  0.2868,  0.3613]],\n",
      "       device='cuda:0')]\n",
      "3 degree:22100 target functions\n",
      "target create time:41.977 s\n"
     ]
    }
   ],
   "source": [
    "\"\"\"  TEMPORARY CELL  \"\"\"\n",
    "\n",
    "## set max delay, degree\n",
    "maxdd=[[3,50]]\n",
    "\n",
    "st = time.time()\n",
    "target_info = ESN.make_targets(u_sym,maxdd,Two=Two)\n",
    "print(r\"target create time:%.3f s\"%(time.time()-st))\n",
    "torch.save(target_info,f\"./experiments/target_info/{fn}_3rd_ti.pt\")\n",
    "\n",
    "#st = time.time()\n",
    "#ti = torch.load('./experiments/target_info/'+fn+'_7th_ti.pt')\n",
    "#print(\"load time:\",time.time()-st)"
   ]
  },
  {
   "cell_type": "code",
   "execution_count": 7,
   "id": "5f8e7763-0dfb-465c-9a47-4c713140d3f5",
   "metadata": {},
   "outputs": [
    {
     "name": "stdout",
     "output_type": "stream",
     "text": [
      "ipc calc time :0.140 s\n"
     ]
    }
   ],
   "source": [
    "\"\"\"  TEMPORARY CELL  \"\"\"\n",
    "#ti = ti.slice(0,4000)\n",
    "ti=target_info\n",
    "st = time.time()\n",
    "raw,lin,rev,sur = ESN.calc_capacity(Xwo,ti.tar_f,ret_all=True)\n",
    "print(r\"ipc calc time :%.3f s\"%(time.time()-st))\n",
    "capacities = rev\n",
    "\n",
    "\n",
    "ipc=ESN.IPC(capacities,ti.maxdelay,ti.degree,ti.maxddset,ti.in_dim)\n",
    "#torch.save(ipc,f\"./experiments/ipcs/{fn}_7th_ipc.pt\")\n",
    "torch.save(ipc,f\"./experiments/ipcs/{fn}_3rd_ipc.pt\")\n"
   ]
  },
  {
   "cell_type": "code",
   "execution_count": 8,
   "id": "fa0eec6a-f2b5-47f3-ab30-6a67e09895be",
   "metadata": {},
   "outputs": [],
   "source": [
    "\n",
    "torch.save(raw,f\"./experiments/ipcs/{fn}_3rd_raw.pt\")\n",
    "torch.save(sur,f\"./experiments/ipcs/{fn}_3rd_sur.pt\")"
   ]
  },
  {
   "cell_type": "code",
   "execution_count": null,
   "id": "75ff58d8-58ed-421c-8d1c-3c63f5cf96fd",
   "metadata": {},
   "outputs": [],
   "source": []
  },
  {
   "cell_type": "code",
   "execution_count": 5,
   "id": "0b71992f-e505-4701-be15-e1e36e775e3e",
   "metadata": {},
   "outputs": [
    {
     "name": "stdout",
     "output_type": "stream",
     "text": [
      "7 degree:116280 target functions\n",
      "target create time:1802.085 s\n"
     ]
    }
   ],
   "source": [
    "## calculate ipc\n",
    "\n",
    "## create target functions\n",
    "\n",
    "## set max delay, degree\n",
    "maxdd=[[2,10],[3,25],[4,10],[5,20]]\n",
    "\n",
    "st = time.time()\n",
    "target_info = ESN.make_targets(u_sym,maxdd,Two=Two)\n",
    "print(r\"target create time:%.3f s\"%(time.time()-st))\n",
    "torch.save(target_info,f\"./experiments/target_info/{fn}_ti.pt\")\n",
    "\n"
   ]
  },
  {
   "cell_type": "code",
   "execution_count": 19,
   "id": "6b69c7df-65ef-41ec-83cf-ff9152bdf636",
   "metadata": {},
   "outputs": [
    {
     "name": "stdout",
     "output_type": "stream",
     "text": [
      "ipc : 0.041225433349609375\n"
     ]
    }
   ],
   "source": [
    "## calculate capacities\n",
    "ti = torch.load('./experiments/target_info/'+fn+'_ti.pt')\n",
    "\n",
    "st = time.time()\n",
    "raw,lin,rev,sur = ESN.calc_capacity(Xwo,ti.tar_f,ret_all=True)\n",
    "print(r\"ipc calc time :%.3f s\"%(time.time()-st))\n",
    "capacities = rev\n",
    "\n",
    "ipc=ESN.IPC(capacities,ti.maxdelay,ti.degree,ti.maxddset,ti.in_dim)\n",
    "torch.save(ipc,f\"./experiments/ipcs/{fn}_ipc.pt\")\n",
    "#torch.save(capacities,f\"./experiments/ipcs/{fn}_c.pt\")\n"
   ]
  },
  {
   "cell_type": "code",
   "execution_count": 21,
   "id": "0db069c7-4bbb-4895-a886-6e399a260e91",
   "metadata": {},
   "outputs": [
    {
     "name": "stdout",
     "output_type": "stream",
     "text": [
      "average ipc value: 0.0007974275874987815\n",
      "totoal capacity: 60.19935401849388\n",
      "MC: 23.358996903637674\n",
      "2nd order ipc: -0.03119727354854423\n",
      "3rd order ipc: 24.114016373215414\n",
      "4th order ipc: 0.05783274524159601\n",
      "5th order ipc: 12.699705269947742\n"
     ]
    }
   ],
   "source": [
    "mfs = torch.load(f\"./experiments/mfs/{fn}_mf.pt\")\n",
    "ipc = torch.load(f\"./experiments/ipcs/{fn}_ipc.pt\")\n",
    "\n",
    "dgrs = torch.tensor(ipc.degree)\n",
    "\n",
    "totMC=float(torch.sum(mfs))\n",
    "totCapacity = totMC+float(torch.sum(capacities))\n",
    "print(\"totoal capacity:\",totCapacity)\n",
    "print(\"MC:\",totMC)\n",
    "\n",
    "\n",
    "\n",
    "c_2nd=torch.sum(capacities[torch.argwhere(dgrs==2)])\n",
    "c_3rd=torch.sum(capacities[torch.argwhere(dgrs==3)])\n",
    "c_4th=torch.sum(capacities[torch.argwhere(dgrs==4)])\n",
    "c_5th=torch.sum(capacities[torch.argwhere(dgrs==5)])\n",
    "print(\"2nd order ipc:\",float(c_2nd))\n",
    "print(\"3rd order ipc:\",float(c_3rd))\n",
    "print(\"4th order ipc:\",float(c_4th))\n",
    "print(\"5th order ipc:\",float(c_5th))\n"
   ]
  }
 ],
 "metadata": {
  "kernelspec": {
   "display_name": "Python 3 (ipykernel)",
   "language": "python",
   "name": "python3"
  },
  "language_info": {
   "codemirror_mode": {
    "name": "ipython",
    "version": 3
   },
   "file_extension": ".py",
   "mimetype": "text/x-python",
   "name": "python",
   "nbconvert_exporter": "python",
   "pygments_lexer": "ipython3",
   "version": "3.10.14"
  }
 },
 "nbformat": 4,
 "nbformat_minor": 5
}
