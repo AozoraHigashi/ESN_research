{
 "cells": [
  {
   "cell_type": "code",
   "execution_count": 2,
   "id": "0c68510f-564b-4d50-913a-6ce716a909a6",
   "metadata": {},
   "outputs": [],
   "source": [
    "\"\"\" 2 dim switching input \n",
    "    with identical Win\n",
    "\"\"\" \n",
    "\n",
    "\n",
    "import torch\n",
    "import matplotlib.pyplot as plt\n",
    "import ESN\n",
    "import time\n",
    "import numpy as np\n",
    "import util\n",
    "torch.set_default_device(\"cuda:0\")\n",
    "torch.set_default_dtype(torch.double)\n",
    "\n",
    "\n"
   ]
  },
  {
   "cell_type": "code",
   "execution_count": null,
   "id": "418fc49d-23a5-4798-8040-bb189d157554",
   "metadata": {},
   "outputs": [],
   "source": [
    "# Parameters\n",
    "Two,Ttrain = 2000,1000000\n",
    "N = 5\n",
    "C = 0.9\n",
    "rho = 0\n",
    "dim = 2\n",
    "idWin = True\n",
    "actf= \"tanh\"\n",
    "N_d = int(N * dim)\n",
    "\n",
    "\n",
    "torch.manual_seed(0)\n",
    "\n",
    "\n",
    "fn_in=\"2d_switching_idwin\"\n",
    "u_asym=torch.load(f\"./experiments/inputs/{fn_in}_i.pt\")\n",
    "\n",
    "esn = ESN.ESN_mult(N_d, uC=C, dim=dim,rseed=0,idWin=idWin)\n",
    "\n",
    "st = time.time()\n",
    "Xwo = esn.run_washout(u_asym, Two, actf=actf,bias=False)\n",
    "print(\"runtime :\",time.time()-st)\n"
   ]
  },
  {
   "cell_type": "code",
   "execution_count": null,
   "id": "6f376acb-8548-474d-a524-a1878ff44d83",
   "metadata": {},
   "outputs": [],
   "source": [
    "## target creation\n",
    "## FOR EACH INPUT DIST\n",
    "\n",
    "maxdd=[[1,20],\n",
    "       [2,10],\n",
    "       [3,10],\n",
    "       [4,7],\n",
    "       [5,7],\n",
    "       [6,3],\n",
    "       [7,3]]\n",
    "\n",
    "u_1dim = u_asym[0] + u_asym[1]\n",
    "\n",
    "\n",
    "if 1:\n",
    "    #1 normalized base\n",
    "    st = time.time()\n",
    "    ti = ESN.make_targets(u=u ,maxddsets=maxdd,Two=Two)\n",
    "    print(r\"target creation time:%.3f s\"%(time.time()-st))\n",
    "\n",
    "\n",
    "\n",
    "if 0:\n",
    "    #2 legendre for both\n",
    "    st = time.time()\n",
    "    ti_lege = ESN.make_targets(u=u_1dim,maxddsets=maxdd,Two=Two,poly=\"legendre\")\n",
    "    print(r\"target creation time:%.3f s\"%(time.time()-st))\n",
    "\n",
    "\n",
    "if 0:\n",
    "    #3 hermite for both\n",
    "    st = time.time()\n",
    "    ti_herm = ESN.make_targets(u=u_1dim,maxddsets=maxdd,Two=Two,poly=\"hermite\")\n",
    "    print(r\"target creation time:%.3f s\"%(time.time()-st))\n"
   ]
  },
  {
   "cell_type": "code",
   "execution_count": 2,
   "id": "52742c52-614c-458c-9b2f-c17a511c95ec",
   "metadata": {},
   "outputs": [
    {
     "name": "stdout",
     "output_type": "stream",
     "text": [
      "totMC:200.16034269545463\n",
      "surrogate value: [0.00019874 0.00020041]\n"
     ]
    }
   ],
   "source": [
    "## Calculate IPC\n",
    "\n"
   ]
  },
  {
   "cell_type": "code",
   "execution_count": null,
   "id": "5f3190e5-33ab-43d8-89c3-224dc375db9d",
   "metadata": {},
   "outputs": [],
   "source": [
    "util.print_ipc(ipc)"
   ]
  },
  {
   "cell_type": "code",
   "execution_count": null,
   "id": "c4a71ff4-875e-4e52-a367-df774276e596",
   "metadata": {},
   "outputs": [],
   "source": []
  },
  {
   "cell_type": "code",
   "execution_count": 1,
   "id": "fbb702cf-9e70-4d10-a746-f1952a2b7023",
   "metadata": {},
   "outputs": [
    {
     "ename": "NameError",
     "evalue": "name 'plt' is not defined",
     "output_type": "error",
     "traceback": [
      "\u001b[0;31m---------------------------------------------------------------------------\u001b[0m",
      "\u001b[0;31mNameError\u001b[0m                                 Traceback (most recent call last)",
      "Cell \u001b[0;32mIn[1], line 3\u001b[0m\n\u001b[1;32m      1\u001b[0m \u001b[38;5;66;03m## input visualization\u001b[39;00m\n\u001b[0;32m----> 3\u001b[0m fig,ax \u001b[38;5;241m=\u001b[39m \u001b[43mplt\u001b[49m\u001b[38;5;241m.\u001b[39msubplots(figsize\u001b[38;5;241m=\u001b[39m(\u001b[38;5;241m12\u001b[39m,\u001b[38;5;241m8\u001b[39m))\n\u001b[1;32m      4\u001b[0m maxT\u001b[38;5;241m=\u001b[39m\u001b[38;5;241m00\u001b[39m\n\u001b[1;32m      5\u001b[0m x_ \u001b[38;5;241m=\u001b[39m np\u001b[38;5;241m.\u001b[39marange(Two\u001b[38;5;241m+\u001b[39mTtrain)\n",
      "\u001b[0;31mNameError\u001b[0m: name 'plt' is not defined"
     ]
    }
   ],
   "source": [
    "## input visualization\n",
    "\n",
    "fig,ax = plt.subplots(figsize=(12,8))\n",
    "maxT=100\n",
    "x_ = np.arange(Two+Ttrain)\n",
    "\n",
    "for d in range(dim):\n",
    "    plt.plot(x_[:maxT],u_asym[d][:maxT].cpu().numpy(),alpha=0.6,label=\"dim \"+str(d))\n",
    "\n",
    "    \n",
    "#plt.ylim(-0.1,1.1)\n",
    "plt.xlabel(\"t\")\n",
    "plt.ylabel(r'u(t)')\n",
    "plt.title(r\"input\")\n",
    "#\n",
    "plt.legend()\n",
    "plt.grid(True)"
   ]
  },
  {
   "cell_type": "code",
   "execution_count": null,
   "id": "d8a7a61e-2de0-41f9-bd75-155737287f67",
   "metadata": {},
   "outputs": [],
   "source": []
  },
  {
   "cell_type": "code",
   "execution_count": null,
   "id": "a83d5acf-90c9-453d-8335-1643e7097d55",
   "metadata": {},
   "outputs": [],
   "source": []
  }
 ],
 "metadata": {
  "kernelspec": {
   "display_name": "Python 3 (ipykernel)",
   "language": "python",
   "name": "python3"
  },
  "language_info": {
   "codemirror_mode": {
    "name": "ipython",
    "version": 3
   },
   "file_extension": ".py",
   "mimetype": "text/x-python",
   "name": "python",
   "nbconvert_exporter": "python",
   "pygments_lexer": "ipython3",
   "version": "3.10.9"
  }
 },
 "nbformat": 4,
 "nbformat_minor": 5
}
