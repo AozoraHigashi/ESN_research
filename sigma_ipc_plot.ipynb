{
 "cells": [
  {
   "cell_type": "code",
   "execution_count": null,
   "id": "588fa3ae-78a7-4f00-9914-56efbf133cc8",
   "metadata": {},
   "outputs": [],
   "source": [
    "\"\"\"\n",
    "TARGET_INFO IS NOT STORED PROPERLY\n",
    "THE CSV FILE HOLDS THE VARIABLES AS STRING\n",
    "\"\"\""
   ]
  },
  {
   "cell_type": "code",
   "execution_count": null,
   "id": "dccc5e99-f989-4194-96ac-55173b6f5153",
   "metadata": {},
   "outputs": [],
   "source": []
  },
  {
   "cell_type": "code",
   "execution_count": 4,
   "id": "d79c1851-06f0-4acb-a90c-b6dca21b6ecf",
   "metadata": {},
   "outputs": [],
   "source": [
    "import torch\n",
    "import matplotlib.pyplot as plt\n",
    "import ESN\n",
    "import time\n",
    "import numpy as np\n",
    "import json\n",
    "import csv\n",
    "torch.set_default_device(\"cuda:0\")\n",
    "torch.set_default_dtype(torch.double)"
   ]
  },
  {
   "cell_type": "code",
   "execution_count": 9,
   "id": "66ff3bc7-e653-4935-85de-a4413fa463eb",
   "metadata": {},
   "outputs": [
    {
     "name": "stdout",
     "output_type": "stream",
     "text": [
      "8916\n"
     ]
    },
    {
     "ename": "TypeError",
     "evalue": "tensor() missing 1 required positional arguments: \"data\"",
     "output_type": "error",
     "traceback": [
      "\u001b[0;31m---------------------------------------------------------------------------\u001b[0m",
      "\u001b[0;31mTypeError\u001b[0m                                 Traceback (most recent call last)",
      "Cell \u001b[0;32mIn[10], line 20\u001b[0m\n\u001b[1;32m     18\u001b[0m capacities \u001b[38;5;241m=\u001b[39m torch\u001b[38;5;241m.\u001b[39mload(\u001b[38;5;124mf\u001b[39m\u001b[38;5;124m\"\u001b[39m\u001b[38;5;124m./experiments/ipcs/\u001b[39m\u001b[38;5;132;01m{\u001b[39;00mfn\u001b[38;5;132;01m}\u001b[39;00m\u001b[38;5;124m_c.pt\u001b[39m\u001b[38;5;124m\"\u001b[39m)\n\u001b[1;32m     19\u001b[0m \u001b[38;5;28mprint\u001b[39m(\u001b[38;5;28mlen\u001b[39m(loaded_tarinfo\u001b[38;5;241m.\u001b[39mdegree))\n\u001b[0;32m---> 20\u001b[0m dgrs \u001b[38;5;241m=\u001b[39m \u001b[43mtorch\u001b[49m\u001b[38;5;241;43m.\u001b[39;49m\u001b[43mtensor\u001b[49m\u001b[43m(\u001b[49m\u001b[43m)\u001b[49m\n\u001b[1;32m     23\u001b[0m totMC\u001b[38;5;241m=\u001b[39m\u001b[38;5;28mfloat\u001b[39m(torch\u001b[38;5;241m.\u001b[39msum(mfs))\n\u001b[1;32m     24\u001b[0m totCapacity \u001b[38;5;241m=\u001b[39m totMC\u001b[38;5;241m+\u001b[39m\u001b[38;5;28mfloat\u001b[39m(torch\u001b[38;5;241m.\u001b[39msum(capacities))\n",
      "\u001b[0;31mTypeError\u001b[0m: tensor() missing 1 required positional arguments: \"data\""
     ]
    }
   ],
   "source": [
    "sigmas = torch.linspace(0.1,2.0,39)\n",
    "\n",
    "ipcs=torch.tensor(())\n",
    "\n",
    "\n",
    "\n",
    "with open('./experiments/target_info/sigma_ipc.csv', mode='r') as csv_file:\n",
    "    reader = csv.DictReader(csv_file)\n",
    "    data = next(reader)\n",
    "    loaded_tarinfo = ESN.Target_Info(**data)\n",
    "\n",
    "sigmas = sigmas[:3]\n",
    "    \n",
    "for sigma in sigmas:\n",
    "    ipc=[]\n",
    "    fn = r\"100N_%.4f s\"%(sigma)\n",
    "    mfs = torch.load(f\"./experiments/mfs/{fn}_mf.pt\")\n",
    "    capacities = torch.load(f\"./experiments/ipcs/{fn}_c.pt\")\n",
    "    \n",
    "    dgrs = \n",
    "    \n",
    "    \n",
    "    totMC=float(torch.sum(mfs))\n",
    "    totCapacity = totMC+float(torch.sum(capacities))\n",
    "    print(\"totoal capacity:\",totCapacity)\n",
    "    #print(\"MC:\",totMC)\n",
    "    c_2nd=torch.sum(capacities[torch.argwhere(dgrs==2)])\n",
    "    c_3rd=torch.sum(capacities[torch.argwhere(dgrs==3)])\n",
    "    c_4th=torch.sum(capacities[torch.argwhere(dgrs==4)])\n",
    "    c_5th=torch.sum(capacities[torch.argwhere(dgrs==5)])\n",
    "    \"\"\"\n",
    "    print(\"2nd order ipc:\",float(c_2nd))\n",
    "    print(\"3rd order ipc:\",float(c_3rd))\n",
    "    print(\"4th order ipc:\",float(c_4th))\n",
    "    print(\"5th order ipc:\",float(c_5th))\n",
    "    \"\"\"\n",
    "    ipc = torch.tensor([totMC,c_2nd,c_3rd,c_4th,c_5th])\n",
    "    ipcs = torch.cat((ipcs,ipc.unsqueeze(0)),0)\n",
    "\n"
   ]
  },
  {
   "cell_type": "code",
   "execution_count": 12,
   "id": "28ce4703-c8c9-49c1-a72a-591f64875d37",
   "metadata": {},
   "outputs": [
    {
     "ename": "ValueError",
     "evalue": "not enough values to unpack (expected 2, got 1)",
     "output_type": "error",
     "traceback": [
      "\u001b[0;31m---------------------------------------------------------------------------\u001b[0m",
      "\u001b[0;31mValueError\u001b[0m                                Traceback (most recent call last)",
      "Cell \u001b[0;32mIn[12], line 1\u001b[0m\n\u001b[0;32m----> 1\u001b[0m ipc_tau,ipc_reshape \u001b[38;5;241m=\u001b[39m \u001b[43mESN\u001b[49m\u001b[38;5;241;43m.\u001b[39;49m\u001b[43mipc_tau\u001b[49m\u001b[43m(\u001b[49m\u001b[43mcapacities\u001b[49m\u001b[43m,\u001b[49m\u001b[43mdegrees\u001b[49m\u001b[38;5;241;43m=\u001b[39;49m\u001b[43mloaded_tarinfo\u001b[49m\u001b[38;5;241;43m.\u001b[39;49m\u001b[43mdegree\u001b[49m\u001b[43m,\u001b[49m\u001b[43mmaxdelays\u001b[49m\u001b[38;5;241;43m=\u001b[39;49m\u001b[43mloaded_tarinfo\u001b[49m\u001b[38;5;241;43m.\u001b[39;49m\u001b[43mmaxdelay\u001b[49m\u001b[43m,\u001b[49m\u001b[43mmaxddsets\u001b[49m\u001b[38;5;241;43m=\u001b[39;49m\u001b[43mloaded_tarinfo\u001b[49m\u001b[38;5;241;43m.\u001b[39;49m\u001b[43mmaxddset\u001b[49m\u001b[43m)\u001b[49m\n\u001b[1;32m      3\u001b[0m \u001b[38;5;28;01mfor\u001b[39;00m deg \u001b[38;5;129;01min\u001b[39;00m \u001b[38;5;28mrange\u001b[39m(\u001b[38;5;28mlen\u001b[39m(ipc_tau)):\n\u001b[1;32m      4\u001b[0m     plt\u001b[38;5;241m.\u001b[39mplot(np\u001b[38;5;241m.\u001b[39marange(\u001b[38;5;241m1\u001b[39m,ipc_tau[deg]\u001b[38;5;241m.\u001b[39mshape[\u001b[38;5;241m0\u001b[39m]\u001b[38;5;241m+\u001b[39m\u001b[38;5;241m1\u001b[39m),ipc_tau[deg]\u001b[38;5;241m.\u001b[39mcpu()\u001b[38;5;241m.\u001b[39mnumpy(),label\u001b[38;5;241m=\u001b[39m\u001b[38;5;124mf\u001b[39m\u001b[38;5;124m\"\u001b[39m\u001b[38;5;132;01m{\u001b[39;00mdeg\u001b[38;5;241m+\u001b[39m\u001b[38;5;241m2\u001b[39m\u001b[38;5;132;01m}\u001b[39;00m\u001b[38;5;124mdegree\u001b[39m\u001b[38;5;124m\"\u001b[39m)\n",
      "File \u001b[0;32m~/NASshare/Higashi/ESN.py:415\u001b[0m, in \u001b[0;36mipc_tau\u001b[0;34m(ipcs, degrees, maxdelays, maxddsets)\u001b[0m\n\u001b[1;32m    413\u001b[0m ipc_reshape \u001b[38;5;241m=\u001b[39m [\u001b[38;5;28;01mNone\u001b[39;00m]\u001b[38;5;241m*\u001b[39mmaxdegree\n\u001b[1;32m    414\u001b[0m ipc_tau \u001b[38;5;241m=\u001b[39m [\u001b[38;5;28;01mNone\u001b[39;00m]\u001b[38;5;241m*\u001b[39mmaxdegree\n\u001b[0;32m--> 415\u001b[0m \u001b[38;5;28;01mfor\u001b[39;00m deg,delay \u001b[38;5;129;01min\u001b[39;00m maxddsets:\n\u001b[1;32m    416\u001b[0m     ipc_reshape[deg\u001b[38;5;241m-\u001b[39moffset] \u001b[38;5;241m=\u001b[39m [torch\u001b[38;5;241m.\u001b[39mtensor(())]\u001b[38;5;241m*\u001b[39m(delay)\n\u001b[1;32m    417\u001b[0m     ipc_tau[deg\u001b[38;5;241m-\u001b[39moffset] \u001b[38;5;241m=\u001b[39m torch\u001b[38;5;241m.\u001b[39mempty(delay)\n",
      "\u001b[0;31mValueError\u001b[0m: not enough values to unpack (expected 2, got 1)"
     ]
    }
   ],
   "source": [
    "\n",
    "\n",
    "\n",
    "ipc_tau,ipc_reshape = ESN.ipc_tau(capacities,degrees=loaded_tarinfo.degree,maxdelays=loaded_tarinfo.maxdelay,maxddsets=loaded_tarinfo.maxddset)\n",
    "\n",
    "for deg in range(len(ipc_tau)):\n",
    "    plt.plot(np.arange(1,ipc_tau[deg].shape[0]+1),ipc_tau[deg].cpu().numpy(),label=f\"{deg+2}degree\")\n",
    "\n",
    "plt.legend()\n",
    "plt.show()\n",
    "\n",
    "\n"
   ]
  },
  {
   "cell_type": "code",
   "execution_count": null,
   "id": "b1b265d6-1422-4bb4-8738-1ac1bf8922a0",
   "metadata": {},
   "outputs": [],
   "source": [
    "\n",
    "\n",
    "\n",
    "plt.figure(figsize=(12,5))\n",
    "bottom=np.zeros(39)\n",
    "print(sigmas)\n",
    "for i in range(5):\n",
    "    plt.bar(sigmas.cpu().numpy(),ipcs[:,i].cpu().numpy(),bottom=bottom,width=0.03,label=f\"{i+1} order ipc\")\n",
    "    bottom+=ipcs[:,i].cpu().numpy()\n",
    "plt.grid(True)\n",
    "plt.title(\"ipcs-sigma\")\n",
    "plt.xlabel(\"sigma\")\n",
    "plt.ylabel(\"capacity\")\n",
    "plt.legend()"
   ]
  },
  {
   "cell_type": "code",
   "execution_count": null,
   "id": "1392dc40-efab-418e-8f1f-c5dc951e1875",
   "metadata": {},
   "outputs": [],
   "source": []
  },
  {
   "cell_type": "code",
   "execution_count": null,
   "id": "0e0d6c61-8eeb-4122-b70f-fcf37686df17",
   "metadata": {},
   "outputs": [],
   "source": []
  }
 ],
 "metadata": {
  "kernelspec": {
   "display_name": "Python 3 (ipykernel)",
   "language": "python",
   "name": "python3"
  },
  "language_info": {
   "codemirror_mode": {
    "name": "ipython",
    "version": 3
   },
   "file_extension": ".py",
   "mimetype": "text/x-python",
   "name": "python",
   "nbconvert_exporter": "python",
   "pygments_lexer": "ipython3",
   "version": "3.10.14"
  }
 },
 "nbformat": 4,
 "nbformat_minor": 5
}
